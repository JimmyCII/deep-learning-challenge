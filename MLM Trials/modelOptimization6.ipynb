{
 "cells": [
  {
   "cell_type": "markdown",
   "metadata": {},
   "source": [
    "## Preprocessing"
   ]
  },
  {
   "cell_type": "code",
   "execution_count": 1,
   "metadata": {},
   "outputs": [
    {
     "name": "stdout",
     "output_type": "stream",
     "text": [
      "WARNING:tensorflow:From c:\\Users\\jimco\\anaconda3\\envs\\ml_env\\lib\\site-packages\\keras\\src\\losses.py:2976: The name tf.losses.sparse_softmax_cross_entropy is deprecated. Please use tf.compat.v1.losses.sparse_softmax_cross_entropy instead.\n",
      "\n"
     ]
    },
    {
     "data": {
      "application/vnd.microsoft.datawrangler.viewer.v0+json": {
       "columns": [
        {
         "name": "index",
         "rawType": "int64",
         "type": "integer"
        },
        {
         "name": "EIN",
         "rawType": "int64",
         "type": "integer"
        },
        {
         "name": "NAME",
         "rawType": "object",
         "type": "string"
        },
        {
         "name": "APPLICATION_TYPE",
         "rawType": "object",
         "type": "string"
        },
        {
         "name": "AFFILIATION",
         "rawType": "object",
         "type": "string"
        },
        {
         "name": "CLASSIFICATION",
         "rawType": "object",
         "type": "string"
        },
        {
         "name": "USE_CASE",
         "rawType": "object",
         "type": "string"
        },
        {
         "name": "ORGANIZATION",
         "rawType": "object",
         "type": "string"
        },
        {
         "name": "STATUS",
         "rawType": "int64",
         "type": "integer"
        },
        {
         "name": "INCOME_AMT",
         "rawType": "object",
         "type": "string"
        },
        {
         "name": "SPECIAL_CONSIDERATIONS",
         "rawType": "object",
         "type": "string"
        },
        {
         "name": "ASK_AMT",
         "rawType": "int64",
         "type": "integer"
        },
        {
         "name": "IS_SUCCESSFUL",
         "rawType": "int64",
         "type": "integer"
        }
       ],
       "conversionMethod": "pd.DataFrame",
       "ref": "6e3194ef-0097-472b-83d0-42a4cde9b57e",
       "rows": [
        [
         "0",
         "10520599",
         "BLUE KNIGHTS MOTORCYCLE CLUB",
         "T10",
         "Independent",
         "C1000",
         "ProductDev",
         "Association",
         "1",
         "0",
         "N",
         "5000",
         "1"
        ],
        [
         "1",
         "10531628",
         "AMERICAN CHESAPEAKE CLUB CHARITABLE TR",
         "T3",
         "Independent",
         "C2000",
         "Preservation",
         "Co-operative",
         "1",
         "1-9999",
         "N",
         "108590",
         "1"
        ],
        [
         "2",
         "10547893",
         "ST CLOUD PROFESSIONAL FIREFIGHTERS",
         "T5",
         "CompanySponsored",
         "C3000",
         "ProductDev",
         "Association",
         "1",
         "0",
         "N",
         "5000",
         "0"
        ],
        [
         "3",
         "10553066",
         "SOUTHSIDE ATHLETIC ASSOCIATION",
         "T3",
         "CompanySponsored",
         "C2000",
         "Preservation",
         "Trust",
         "1",
         "10000-24999",
         "N",
         "6692",
         "1"
        ],
        [
         "4",
         "10556103",
         "GENETIC RESEARCH INSTITUTE OF THE DESERT",
         "T3",
         "Independent",
         "C1000",
         "Heathcare",
         "Trust",
         "1",
         "100000-499999",
         "N",
         "142590",
         "1"
        ]
       ],
       "shape": {
        "columns": 12,
        "rows": 5
       }
      },
      "text/html": [
       "<div>\n",
       "<style scoped>\n",
       "    .dataframe tbody tr th:only-of-type {\n",
       "        vertical-align: middle;\n",
       "    }\n",
       "\n",
       "    .dataframe tbody tr th {\n",
       "        vertical-align: top;\n",
       "    }\n",
       "\n",
       "    .dataframe thead th {\n",
       "        text-align: right;\n",
       "    }\n",
       "</style>\n",
       "<table border=\"1\" class=\"dataframe\">\n",
       "  <thead>\n",
       "    <tr style=\"text-align: right;\">\n",
       "      <th></th>\n",
       "      <th>EIN</th>\n",
       "      <th>NAME</th>\n",
       "      <th>APPLICATION_TYPE</th>\n",
       "      <th>AFFILIATION</th>\n",
       "      <th>CLASSIFICATION</th>\n",
       "      <th>USE_CASE</th>\n",
       "      <th>ORGANIZATION</th>\n",
       "      <th>STATUS</th>\n",
       "      <th>INCOME_AMT</th>\n",
       "      <th>SPECIAL_CONSIDERATIONS</th>\n",
       "      <th>ASK_AMT</th>\n",
       "      <th>IS_SUCCESSFUL</th>\n",
       "    </tr>\n",
       "  </thead>\n",
       "  <tbody>\n",
       "    <tr>\n",
       "      <th>0</th>\n",
       "      <td>10520599</td>\n",
       "      <td>BLUE KNIGHTS MOTORCYCLE CLUB</td>\n",
       "      <td>T10</td>\n",
       "      <td>Independent</td>\n",
       "      <td>C1000</td>\n",
       "      <td>ProductDev</td>\n",
       "      <td>Association</td>\n",
       "      <td>1</td>\n",
       "      <td>0</td>\n",
       "      <td>N</td>\n",
       "      <td>5000</td>\n",
       "      <td>1</td>\n",
       "    </tr>\n",
       "    <tr>\n",
       "      <th>1</th>\n",
       "      <td>10531628</td>\n",
       "      <td>AMERICAN CHESAPEAKE CLUB CHARITABLE TR</td>\n",
       "      <td>T3</td>\n",
       "      <td>Independent</td>\n",
       "      <td>C2000</td>\n",
       "      <td>Preservation</td>\n",
       "      <td>Co-operative</td>\n",
       "      <td>1</td>\n",
       "      <td>1-9999</td>\n",
       "      <td>N</td>\n",
       "      <td>108590</td>\n",
       "      <td>1</td>\n",
       "    </tr>\n",
       "    <tr>\n",
       "      <th>2</th>\n",
       "      <td>10547893</td>\n",
       "      <td>ST CLOUD PROFESSIONAL FIREFIGHTERS</td>\n",
       "      <td>T5</td>\n",
       "      <td>CompanySponsored</td>\n",
       "      <td>C3000</td>\n",
       "      <td>ProductDev</td>\n",
       "      <td>Association</td>\n",
       "      <td>1</td>\n",
       "      <td>0</td>\n",
       "      <td>N</td>\n",
       "      <td>5000</td>\n",
       "      <td>0</td>\n",
       "    </tr>\n",
       "    <tr>\n",
       "      <th>3</th>\n",
       "      <td>10553066</td>\n",
       "      <td>SOUTHSIDE ATHLETIC ASSOCIATION</td>\n",
       "      <td>T3</td>\n",
       "      <td>CompanySponsored</td>\n",
       "      <td>C2000</td>\n",
       "      <td>Preservation</td>\n",
       "      <td>Trust</td>\n",
       "      <td>1</td>\n",
       "      <td>10000-24999</td>\n",
       "      <td>N</td>\n",
       "      <td>6692</td>\n",
       "      <td>1</td>\n",
       "    </tr>\n",
       "    <tr>\n",
       "      <th>4</th>\n",
       "      <td>10556103</td>\n",
       "      <td>GENETIC RESEARCH INSTITUTE OF THE DESERT</td>\n",
       "      <td>T3</td>\n",
       "      <td>Independent</td>\n",
       "      <td>C1000</td>\n",
       "      <td>Heathcare</td>\n",
       "      <td>Trust</td>\n",
       "      <td>1</td>\n",
       "      <td>100000-499999</td>\n",
       "      <td>N</td>\n",
       "      <td>142590</td>\n",
       "      <td>1</td>\n",
       "    </tr>\n",
       "  </tbody>\n",
       "</table>\n",
       "</div>"
      ],
      "text/plain": [
       "        EIN                                      NAME APPLICATION_TYPE  \\\n",
       "0  10520599              BLUE KNIGHTS MOTORCYCLE CLUB              T10   \n",
       "1  10531628    AMERICAN CHESAPEAKE CLUB CHARITABLE TR               T3   \n",
       "2  10547893        ST CLOUD PROFESSIONAL FIREFIGHTERS               T5   \n",
       "3  10553066            SOUTHSIDE ATHLETIC ASSOCIATION               T3   \n",
       "4  10556103  GENETIC RESEARCH INSTITUTE OF THE DESERT               T3   \n",
       "\n",
       "        AFFILIATION CLASSIFICATION      USE_CASE  ORGANIZATION  STATUS  \\\n",
       "0       Independent          C1000    ProductDev   Association       1   \n",
       "1       Independent          C2000  Preservation  Co-operative       1   \n",
       "2  CompanySponsored          C3000    ProductDev   Association       1   \n",
       "3  CompanySponsored          C2000  Preservation         Trust       1   \n",
       "4       Independent          C1000     Heathcare         Trust       1   \n",
       "\n",
       "      INCOME_AMT SPECIAL_CONSIDERATIONS  ASK_AMT  IS_SUCCESSFUL  \n",
       "0              0                      N     5000              1  \n",
       "1         1-9999                      N   108590              1  \n",
       "2              0                      N     5000              0  \n",
       "3    10000-24999                      N     6692              1  \n",
       "4  100000-499999                      N   142590              1  "
      ]
     },
     "execution_count": 1,
     "metadata": {},
     "output_type": "execute_result"
    }
   ],
   "source": [
    "# Import our dependencies\n",
    "import pandas as pd\n",
    "import tensorflow as tf\n",
    "from sklearn.model_selection import train_test_split\n",
    "from sklearn.preprocessing import StandardScaler\n",
    "import numpy as np\n",
    "from sklearn.linear_model import LogisticRegression\n",
    "from sklearn.tree import DecisionTreeClassifier\n",
    "from sklearn.ensemble import RandomForestClassifier, GradientBoostingClassifier\n",
    "from sklearn.svm import SVC\n",
    "from sklearn.neighbors import KNeighborsClassifier\n",
    "from sklearn.metrics import accuracy_score\n",
    "import csv\n",
    "# Import pandas and read the charity_data.csv from the provided cloud URL.\n",
    "\n",
    "application_df = pd.read_csv(\"https://static.bc-edx.com/data/dl-1-2/m21/lms/starter/charity_data.csv\")\n",
    "application_df.head()"
   ]
  },
  {
   "cell_type": "code",
   "execution_count": 2,
   "metadata": {},
   "outputs": [
    {
     "data": {
      "application/vnd.microsoft.datawrangler.viewer.v0+json": {
       "columns": [
        {
         "name": "index",
         "rawType": "int64",
         "type": "integer"
        },
        {
         "name": "APPLICATION_TYPE",
         "rawType": "object",
         "type": "string"
        },
        {
         "name": "AFFILIATION",
         "rawType": "object",
         "type": "string"
        },
        {
         "name": "CLASSIFICATION",
         "rawType": "object",
         "type": "string"
        },
        {
         "name": "USE_CASE",
         "rawType": "object",
         "type": "string"
        },
        {
         "name": "ORGANIZATION",
         "rawType": "object",
         "type": "string"
        },
        {
         "name": "STATUS",
         "rawType": "int64",
         "type": "integer"
        },
        {
         "name": "INCOME_AMT",
         "rawType": "object",
         "type": "string"
        },
        {
         "name": "SPECIAL_CONSIDERATIONS",
         "rawType": "object",
         "type": "string"
        },
        {
         "name": "ASK_AMT",
         "rawType": "int64",
         "type": "integer"
        },
        {
         "name": "IS_SUCCESSFUL",
         "rawType": "int64",
         "type": "integer"
        }
       ],
       "conversionMethod": "pd.DataFrame",
       "ref": "a9d7cc8c-0f58-4c39-b0ed-4315a1d66d13",
       "rows": [
        [
         "0",
         "T10",
         "Independent",
         "C1000",
         "ProductDev",
         "Association",
         "1",
         "0",
         "N",
         "5000",
         "1"
        ],
        [
         "1",
         "T3",
         "Independent",
         "C2000",
         "Preservation",
         "Co-operative",
         "1",
         "1-9999",
         "N",
         "108590",
         "1"
        ],
        [
         "2",
         "T5",
         "CompanySponsored",
         "C3000",
         "ProductDev",
         "Association",
         "1",
         "0",
         "N",
         "5000",
         "0"
        ],
        [
         "3",
         "T3",
         "CompanySponsored",
         "C2000",
         "Preservation",
         "Trust",
         "1",
         "10000-24999",
         "N",
         "6692",
         "1"
        ],
        [
         "4",
         "T3",
         "Independent",
         "C1000",
         "Heathcare",
         "Trust",
         "1",
         "100000-499999",
         "N",
         "142590",
         "1"
        ]
       ],
       "shape": {
        "columns": 10,
        "rows": 5
       }
      },
      "text/html": [
       "<div>\n",
       "<style scoped>\n",
       "    .dataframe tbody tr th:only-of-type {\n",
       "        vertical-align: middle;\n",
       "    }\n",
       "\n",
       "    .dataframe tbody tr th {\n",
       "        vertical-align: top;\n",
       "    }\n",
       "\n",
       "    .dataframe thead th {\n",
       "        text-align: right;\n",
       "    }\n",
       "</style>\n",
       "<table border=\"1\" class=\"dataframe\">\n",
       "  <thead>\n",
       "    <tr style=\"text-align: right;\">\n",
       "      <th></th>\n",
       "      <th>APPLICATION_TYPE</th>\n",
       "      <th>AFFILIATION</th>\n",
       "      <th>CLASSIFICATION</th>\n",
       "      <th>USE_CASE</th>\n",
       "      <th>ORGANIZATION</th>\n",
       "      <th>STATUS</th>\n",
       "      <th>INCOME_AMT</th>\n",
       "      <th>SPECIAL_CONSIDERATIONS</th>\n",
       "      <th>ASK_AMT</th>\n",
       "      <th>IS_SUCCESSFUL</th>\n",
       "    </tr>\n",
       "  </thead>\n",
       "  <tbody>\n",
       "    <tr>\n",
       "      <th>0</th>\n",
       "      <td>T10</td>\n",
       "      <td>Independent</td>\n",
       "      <td>C1000</td>\n",
       "      <td>ProductDev</td>\n",
       "      <td>Association</td>\n",
       "      <td>1</td>\n",
       "      <td>0</td>\n",
       "      <td>N</td>\n",
       "      <td>5000</td>\n",
       "      <td>1</td>\n",
       "    </tr>\n",
       "    <tr>\n",
       "      <th>1</th>\n",
       "      <td>T3</td>\n",
       "      <td>Independent</td>\n",
       "      <td>C2000</td>\n",
       "      <td>Preservation</td>\n",
       "      <td>Co-operative</td>\n",
       "      <td>1</td>\n",
       "      <td>1-9999</td>\n",
       "      <td>N</td>\n",
       "      <td>108590</td>\n",
       "      <td>1</td>\n",
       "    </tr>\n",
       "    <tr>\n",
       "      <th>2</th>\n",
       "      <td>T5</td>\n",
       "      <td>CompanySponsored</td>\n",
       "      <td>C3000</td>\n",
       "      <td>ProductDev</td>\n",
       "      <td>Association</td>\n",
       "      <td>1</td>\n",
       "      <td>0</td>\n",
       "      <td>N</td>\n",
       "      <td>5000</td>\n",
       "      <td>0</td>\n",
       "    </tr>\n",
       "    <tr>\n",
       "      <th>3</th>\n",
       "      <td>T3</td>\n",
       "      <td>CompanySponsored</td>\n",
       "      <td>C2000</td>\n",
       "      <td>Preservation</td>\n",
       "      <td>Trust</td>\n",
       "      <td>1</td>\n",
       "      <td>10000-24999</td>\n",
       "      <td>N</td>\n",
       "      <td>6692</td>\n",
       "      <td>1</td>\n",
       "    </tr>\n",
       "    <tr>\n",
       "      <th>4</th>\n",
       "      <td>T3</td>\n",
       "      <td>Independent</td>\n",
       "      <td>C1000</td>\n",
       "      <td>Heathcare</td>\n",
       "      <td>Trust</td>\n",
       "      <td>1</td>\n",
       "      <td>100000-499999</td>\n",
       "      <td>N</td>\n",
       "      <td>142590</td>\n",
       "      <td>1</td>\n",
       "    </tr>\n",
       "  </tbody>\n",
       "</table>\n",
       "</div>"
      ],
      "text/plain": [
       "  APPLICATION_TYPE       AFFILIATION CLASSIFICATION      USE_CASE  \\\n",
       "0              T10       Independent          C1000    ProductDev   \n",
       "1               T3       Independent          C2000  Preservation   \n",
       "2               T5  CompanySponsored          C3000    ProductDev   \n",
       "3               T3  CompanySponsored          C2000  Preservation   \n",
       "4               T3       Independent          C1000     Heathcare   \n",
       "\n",
       "   ORGANIZATION  STATUS     INCOME_AMT SPECIAL_CONSIDERATIONS  ASK_AMT  \\\n",
       "0   Association       1              0                      N     5000   \n",
       "1  Co-operative       1         1-9999                      N   108590   \n",
       "2   Association       1              0                      N     5000   \n",
       "3         Trust       1    10000-24999                      N     6692   \n",
       "4         Trust       1  100000-499999                      N   142590   \n",
       "\n",
       "   IS_SUCCESSFUL  \n",
       "0              1  \n",
       "1              1  \n",
       "2              0  \n",
       "3              1  \n",
       "4              1  "
      ]
     },
     "execution_count": 2,
     "metadata": {},
     "output_type": "execute_result"
    }
   ],
   "source": [
    "# Drop the non-beneficial ID columns, 'EIN' and 'NAME'.\n",
    "application_df = application_df.drop(columns=[\"EIN\", \"NAME\"])\n",
    "application_df.head()\n"
   ]
  },
  {
   "cell_type": "markdown",
   "metadata": {},
   "source": [
    "What variable(s) are the target(s) for your model?\n",
    "    - Is Successful\n",
    "What variable(s) are the feature(s) for your model?\n",
    "    - APPLICATION_TYPE, AFFILIATION, CLASSIFICATION, USE_CASE, ORGANIZATION, STATUS, INCOME_AMT, SPECIAL_CONSIDERATIONS, ASK_AMT        "
   ]
  },
  {
   "cell_type": "code",
   "execution_count": 3,
   "metadata": {},
   "outputs": [
    {
     "data": {
      "text/plain": [
       "APPLICATION_TYPE            17\n",
       "AFFILIATION                  6\n",
       "CLASSIFICATION              71\n",
       "USE_CASE                     5\n",
       "ORGANIZATION                 4\n",
       "STATUS                       2\n",
       "INCOME_AMT                   9\n",
       "SPECIAL_CONSIDERATIONS       2\n",
       "ASK_AMT                   8747\n",
       "IS_SUCCESSFUL                2\n",
       "dtype: int64"
      ]
     },
     "execution_count": 3,
     "metadata": {},
     "output_type": "execute_result"
    }
   ],
   "source": [
    "# Determine the number of unique values in each column.\n",
    "application_df.nunique()\n",
    "\n"
   ]
  },
  {
   "cell_type": "code",
   "execution_count": 4,
   "metadata": {},
   "outputs": [
    {
     "name": "stdout",
     "output_type": "stream",
     "text": [
      "APPLICATION_TYPE\n",
      "T3     27037\n",
      "T4      1542\n",
      "T6      1216\n",
      "T5      1173\n",
      "T19     1065\n",
      "T8       737\n",
      "T7       725\n",
      "T10      528\n",
      "T9       156\n",
      "T13       66\n",
      "T12       27\n",
      "T2        16\n",
      "T25        3\n",
      "T14        3\n",
      "T29        2\n",
      "T15        2\n",
      "T17        1\n",
      "Name: count, dtype: int64\n"
     ]
    }
   ],
   "source": [
    "# Look at APPLICATION_TYPE value counts to identify and replace with \"Other\"\n",
    "import matplotlib.pyplot as plt\n",
    "application_type_counts = application_df['APPLICATION_TYPE'].value_counts()\n",
    "print(application_type_counts)\n",
    "# Determine which values to replace"
   ]
  },
  {
   "cell_type": "markdown",
   "metadata": {},
   "source": [
    "The log scale was used to gain a better understanding of the distribution  of the less frequent application types and make a more informed decision about the cutoff value"
   ]
  },
  {
   "cell_type": "code",
   "execution_count": 5,
   "metadata": {},
   "outputs": [],
   "source": [
    "# # Step 2: Visualize the distribution\n",
    "# plt.figure(figsize=(10, 6))\n",
    "# application_type_counts.plot(kind='bar')\n",
    "# plt.title('Frequency Distribution of Application Types')\n",
    "# plt.xlabel('Application Type')\n",
    "# plt.ylabel('Frequency')\n",
    "# plt.yscale('log')  # Use log scale for better visualization of outliers\n",
    "# plt.show()\n"
   ]
  },
  {
   "cell_type": "code",
   "execution_count": 6,
   "metadata": {},
   "outputs": [
    {
     "data": {
      "text/plain": [
       "APPLICATION_TYPE\n",
       "T3       27037\n",
       "T4        1542\n",
       "Other     1529\n",
       "T6        1216\n",
       "T5        1173\n",
       "T19       1065\n",
       "T8         737\n",
       "Name: count, dtype: int64"
      ]
     },
     "execution_count": 6,
     "metadata": {},
     "output_type": "execute_result"
    }
   ],
   "source": [
    "# Choose a cutoff value and create a list of application types to be replaced\n",
    "# use the variable name `application_types_to_replace`\n",
    "# Choose a cutoff value (example: 500)\n",
    "cutoff_value = 737\n",
    "\n",
    "# Create a list of application types to be replaced\n",
    "application_types_to_replace = application_type_counts[application_type_counts < cutoff_value].index.tolist()\n",
    "\n",
    "# Replace in dataframe\n",
    "for app in application_types_to_replace:\n",
    "    application_df['APPLICATION_TYPE'] = application_df['APPLICATION_TYPE'].replace(app,\"Other\")\n",
    "\n",
    "# Check to make sure replacement was successful\n",
    "application_df['APPLICATION_TYPE'].value_counts()"
   ]
  },
  {
   "cell_type": "code",
   "execution_count": 7,
   "metadata": {},
   "outputs": [],
   "source": [
    "application_type_counts = application_df['APPLICATION_TYPE'].value_counts()\n",
    "\n",
    "# plt.figure(figsize=(10, 6))\n",
    "# application_type_counts .plot(kind='bar')\n",
    "# plt.title('Frequency Distribution of Application Types')\n",
    "# plt.xlabel('Application Type')\n",
    "# plt.ylabel('Frequency')\n",
    "# plt.yscale('log')  # Use log scale for better visualization of outliers\n",
    "# plt.show()"
   ]
  },
  {
   "cell_type": "code",
   "execution_count": 8,
   "metadata": {},
   "outputs": [
    {
     "name": "stdout",
     "output_type": "stream",
     "text": [
      "CLASSIFICATION\n",
      "C1000    17326\n",
      "C2000     6074\n",
      "C1200     4837\n",
      "C3000     1918\n",
      "C2100     1883\n",
      "         ...  \n",
      "C4120        1\n",
      "C8210        1\n",
      "C2561        1\n",
      "C4500        1\n",
      "C2150        1\n",
      "Name: count, Length: 71, dtype: int64\n"
     ]
    }
   ],
   "source": [
    "# Look at CLASSIFICATION value counts to identify and replace with \"Other\"\n",
    "classification_counts = application_df['CLASSIFICATION'].value_counts()\n",
    "print(classification_counts)"
   ]
  },
  {
   "cell_type": "code",
   "execution_count": 9,
   "metadata": {},
   "outputs": [
    {
     "name": "stdout",
     "output_type": "stream",
     "text": [
      "CLASSIFICATION\n",
      "C1000    17326\n",
      "C2000     6074\n",
      "C1200     4837\n",
      "C3000     1918\n",
      "C2100     1883\n",
      "C7000      777\n",
      "C1700      287\n",
      "C4000      194\n",
      "C5000      116\n",
      "C1270      114\n",
      "C2700      104\n",
      "C2800       95\n",
      "C7100       75\n",
      "C1300       58\n",
      "C1280       50\n",
      "C1230       36\n",
      "C1400       34\n",
      "C7200       32\n",
      "C2300       32\n",
      "C1240       30\n",
      "C8000       20\n",
      "C7120       18\n",
      "C1500       16\n",
      "C1800       15\n",
      "C6000       15\n",
      "C1250       14\n",
      "C8200       11\n",
      "C1238       10\n",
      "C1278       10\n",
      "C1235        9\n",
      "C1237        9\n",
      "C7210        7\n",
      "C2400        6\n",
      "C1720        6\n",
      "C4100        6\n",
      "C1257        5\n",
      "C1600        5\n",
      "C1260        3\n",
      "C2710        3\n",
      "C0           3\n",
      "C3200        2\n",
      "C1234        2\n",
      "C1246        2\n",
      "C1267        2\n",
      "C1256        2\n",
      "Name: count, dtype: int64\n"
     ]
    }
   ],
   "source": [
    "# You may find it helpful to look at CLASSIFICATION value counts >1\n",
    "print(classification_counts[classification_counts > 1])\n",
    "\n",
    "# # Step 2: Visualize the distribution\n",
    "# plt.figure(figsize=(10, 6))\n",
    "# classification_counts.plot(kind='bar')  \n",
    "# plt.title('Frequency Distribution of Classifications')\n",
    "# plt.xlabel('Classification')\n",
    "# plt.ylabel('Frequency')\n",
    "# plt.yscale('log')  # Use log scale for better visualization of outliers\n",
    "# plt.show()"
   ]
  },
  {
   "cell_type": "code",
   "execution_count": 10,
   "metadata": {},
   "outputs": [
    {
     "data": {
      "text/plain": [
       "CLASSIFICATION\n",
       "C1000    17326\n",
       "C2000     6074\n",
       "C1200     4837\n",
       "Other     2261\n",
       "C3000     1918\n",
       "C2100     1883\n",
       "Name: count, dtype: int64"
      ]
     },
     "execution_count": 10,
     "metadata": {},
     "output_type": "execute_result"
    }
   ],
   "source": [
    "# Choose a cutoff value and create a list of classifications to be replaced\n",
    "# use the variable name `classifications_to_replace`\n",
    "\n",
    "classification_cutoff_value = 800\n",
    "\n",
    "# Create a list of application types to be replaced\n",
    "classifications_to_replace = classification_counts[classification_counts < classification_cutoff_value ].index.tolist()\n",
    "\n",
    "\n",
    "for cls in classifications_to_replace:\n",
    "    application_df['CLASSIFICATION'] = application_df['CLASSIFICATION'].replace(cls,\"Other\")\n",
    "\n",
    "# Check to make sure replacement was successful\n",
    "application_df['CLASSIFICATION'].value_counts()"
   ]
  },
  {
   "cell_type": "code",
   "execution_count": 11,
   "metadata": {},
   "outputs": [
    {
     "name": "stdout",
     "output_type": "stream",
     "text": [
      "STATUS\n",
      "1    34294\n",
      "0        5\n",
      "Name: count, dtype: int64\n"
     ]
    }
   ],
   "source": [
    "status_counts = application_df['STATUS'].value_counts()\n",
    "print(status_counts)"
   ]
  },
  {
   "cell_type": "code",
   "execution_count": 12,
   "metadata": {},
   "outputs": [
    {
     "name": "stdout",
     "output_type": "stream",
     "text": [
      "   STATUS  ASK_AMT  IS_SUCCESSFUL  APPLICATION_TYPE_Other  \\\n",
      "0       1     5000              1                    True   \n",
      "1       1   108590              1                   False   \n",
      "2       1     5000              0                   False   \n",
      "3       1     6692              1                   False   \n",
      "4       1   142590              1                   False   \n",
      "\n",
      "   APPLICATION_TYPE_T19  APPLICATION_TYPE_T3  APPLICATION_TYPE_T4  \\\n",
      "0                 False                False                False   \n",
      "1                 False                 True                False   \n",
      "2                 False                False                False   \n",
      "3                 False                 True                False   \n",
      "4                 False                 True                False   \n",
      "\n",
      "   APPLICATION_TYPE_T5  APPLICATION_TYPE_T6  APPLICATION_TYPE_T8  ...  \\\n",
      "0                False                False                False  ...   \n",
      "1                False                False                False  ...   \n",
      "2                 True                False                False  ...   \n",
      "3                False                False                False  ...   \n",
      "4                False                False                False  ...   \n",
      "\n",
      "   INCOME_AMT_1-9999  INCOME_AMT_10000-24999  INCOME_AMT_100000-499999  \\\n",
      "0              False                   False                     False   \n",
      "1               True                   False                     False   \n",
      "2              False                   False                     False   \n",
      "3              False                    True                     False   \n",
      "4              False                   False                      True   \n",
      "\n",
      "   INCOME_AMT_10M-50M  INCOME_AMT_1M-5M  INCOME_AMT_25000-99999  \\\n",
      "0               False             False                   False   \n",
      "1               False             False                   False   \n",
      "2               False             False                   False   \n",
      "3               False             False                   False   \n",
      "4               False             False                   False   \n",
      "\n",
      "   INCOME_AMT_50M+  INCOME_AMT_5M-10M  SPECIAL_CONSIDERATIONS_N  \\\n",
      "0            False              False                      True   \n",
      "1            False              False                      True   \n",
      "2            False              False                      True   \n",
      "3            False              False                      True   \n",
      "4            False              False                      True   \n",
      "\n",
      "   SPECIAL_CONSIDERATIONS_Y  \n",
      "0                     False  \n",
      "1                     False  \n",
      "2                     False  \n",
      "3                     False  \n",
      "4                     False  \n",
      "\n",
      "[5 rows x 42 columns]\n"
     ]
    }
   ],
   "source": [
    "# Convert categorical data to numeric with `pd.get_dummies`\n",
    "categorical_columns = ['APPLICATION_TYPE', 'AFFILIATION', 'CLASSIFICATION',  'USE_CASE', 'ORGANIZATION', 'INCOME_AMT', 'SPECIAL_CONSIDERATIONS']\n",
    "\n",
    "# Convert categorical data to numeric using pd.get_dummies\n",
    "application_df = pd.get_dummies(application_df, columns=categorical_columns)\n",
    "\n",
    "# Display the first few rows of the updated DataFrame\n",
    "print(application_df.head())"
   ]
  },
  {
   "cell_type": "code",
   "execution_count": 13,
   "metadata": {},
   "outputs": [],
   "source": [
    "columns_to_drop = [\n",
    "    \"AFFILIATION_Other\",\n",
    "    \"STATUS\",\n",
    "    \"AFFILIATION_Family/Parent\",\n",
    "    \"AFFILIATION_Regional\",\n",
    "    \"SPECIAL_CONSIDERATIONS_Y\",\n",
    "    \"SPECIAL_CONSIDERATIONS_N\",\n",
    "    \"INCOME_AMT_25000-99999\",\n",
    "    \"INCOME_AMT_0\"\n",
    "]\n",
    "application_df = application_df.drop(columns=columns_to_drop)"
   ]
  },
  {
   "cell_type": "code",
   "execution_count": 14,
   "metadata": {},
   "outputs": [],
   "source": [
    "# Split the data into features and target\n",
    "y = application_df['IS_SUCCESSFUL'].values\n",
    "X = application_df.drop(columns='IS_SUCCESSFUL')\n",
    "\n",
    "# Capture feature names\n",
    "feature_names = X.columns\n",
    "\n",
    "# Convert to numpy array for scaling\n",
    "X = X.values\n",
    "\n",
    "# Split the preprocessed data into a training and testing dataset\n",
    "X_train, X_test, y_train, y_test = train_test_split(X, y, random_state=42)\n",
    "\n"
   ]
  },
  {
   "cell_type": "code",
   "execution_count": 15,
   "metadata": {},
   "outputs": [],
   "source": [
    "# Create a StandardScaler instances\n",
    "scaler = StandardScaler()\n",
    "\n",
    "# Fit the StandardScaler\n",
    "X_scaler = scaler.fit(X_train)\n",
    "\n",
    "# Scale the data\n",
    "X_train_scaled = X_scaler.transform(X_train)\n",
    "X_test_scaled = X_scaler.transform(X_test)"
   ]
  },
  {
   "cell_type": "markdown",
   "metadata": {},
   "source": [
    "## Compile, Train and Evaluate the Model"
   ]
  },
  {
   "cell_type": "code",
   "execution_count": 16,
   "metadata": {},
   "outputs": [],
   "source": [
    "# Function to create the model\n",
    "def create_model(input_dim):\n",
    "    model = tf.keras.models.Sequential()\n",
    "    model.add(tf.keras.layers.Dense(units=128, activation='relu', input_dim=input_dim))\n",
    "    model.add(tf.keras.layers.Dropout(0.2))\n",
    "    model.add(tf.keras.layers.Dense(units=64, activation='relu'))\n",
    "    model.add(tf.keras.layers.Dropout(0.2))\n",
    "    model.add(tf.keras.layers.Dense(units=32, activation='relu'))\n",
    "    model.add(tf.keras.layers.Dropout(0.2))\n",
    "    model.add(tf.keras.layers.Dense(units=16, activation='relu'))\n",
    "    model.add(tf.keras.layers.Dropout(0.2))\n",
    "    model.add(tf.keras.layers.Dense(units=8, activation='relu'))\n",
    "    model.add(tf.keras.layers.Dropout(0.2))\n",
    "    model.add(tf.keras.layers.Dense(units=4, activation='relu'))  # Additional hidden layer\n",
    "    model.add(tf.keras.layers.Dropout(0.2))\n",
    "    model.add(tf.keras.layers.Dense(units=1, activation='sigmoid'))\n",
    "    model.compile(optimizer='adam', loss='binary_crossentropy', metrics=['accuracy'])\n",
    "    return model"
   ]
  },
  {
   "cell_type": "code",
   "execution_count": 17,
   "metadata": {},
   "outputs": [],
   "source": [
    "# # Function to train the model\n",
    "# def train_model(model, X_train, y_train, X_test, y_test, epochs=100):\n",
    "#     # Train the model\n",
    "#     fit_model = model.fit(X_train, y_train, epochs=epochs, batch_size=32, validation_split=0.2)\n",
    "    \n",
    "#     # Evaluate the model using the test data\n",
    "#     model_loss, model_accuracy = model.evaluate(X_test, y_test, verbose=2)\n",
    "#     print(f\"Loss: {model_loss}, Accuracy: {model_accuracy}\")\n",
    "    \n",
    "#     return model, fit_model"
   ]
  },
  {
   "cell_type": "code",
   "execution_count": 18,
   "metadata": {},
   "outputs": [
    {
     "name": "stdout",
     "output_type": "stream",
     "text": [
      "WARNING:tensorflow:From c:\\Users\\jimco\\anaconda3\\envs\\ml_env\\lib\\site-packages\\keras\\src\\backend.py:873: The name tf.get_default_graph is deprecated. Please use tf.compat.v1.get_default_graph instead.\n",
      "\n",
      "WARNING:tensorflow:From c:\\Users\\jimco\\anaconda3\\envs\\ml_env\\lib\\site-packages\\keras\\src\\optimizers\\__init__.py:309: The name tf.train.Optimizer is deprecated. Please use tf.compat.v1.train.Optimizer instead.\n",
      "\n",
      "Epoch 1/200\n",
      "WARNING:tensorflow:From c:\\Users\\jimco\\anaconda3\\envs\\ml_env\\lib\\site-packages\\keras\\src\\utils\\tf_utils.py:492: The name tf.ragged.RaggedTensorValue is deprecated. Please use tf.compat.v1.ragged.RaggedTensorValue instead.\n",
      "\n",
      "WARNING:tensorflow:From c:\\Users\\jimco\\anaconda3\\envs\\ml_env\\lib\\site-packages\\keras\\src\\engine\\base_layer_utils.py:384: The name tf.executing_eagerly_outside_functions is deprecated. Please use tf.compat.v1.executing_eagerly_outside_functions instead.\n",
      "\n",
      "644/644 [==============================] - 2s 2ms/step - loss: 0.6363 - accuracy: 0.6584 - val_loss: 0.5601 - val_accuracy: 0.7355\n",
      "Epoch 2/200\n",
      "644/644 [==============================] - 1s 1ms/step - loss: 0.6015 - accuracy: 0.7086 - val_loss: 0.5623 - val_accuracy: 0.7329\n",
      "Epoch 3/200\n",
      "644/644 [==============================] - 1s 1ms/step - loss: 0.5945 - accuracy: 0.7133 - val_loss: 0.5546 - val_accuracy: 0.7347\n",
      "Epoch 4/200\n",
      "644/644 [==============================] - 1s 1ms/step - loss: 0.5907 - accuracy: 0.7130 - val_loss: 0.5588 - val_accuracy: 0.7357\n",
      "Epoch 5/200\n",
      "644/644 [==============================] - 1s 1ms/step - loss: 0.5865 - accuracy: 0.7178 - val_loss: 0.5573 - val_accuracy: 0.7343\n",
      "Epoch 6/200\n",
      "644/644 [==============================] - 1s 1ms/step - loss: 0.5871 - accuracy: 0.7159 - val_loss: 0.5602 - val_accuracy: 0.7328\n",
      "Epoch 7/200\n",
      "644/644 [==============================] - 1s 2ms/step - loss: 0.5819 - accuracy: 0.7194 - val_loss: 0.5522 - val_accuracy: 0.7318\n",
      "Epoch 8/200\n",
      "644/644 [==============================] - 1s 1ms/step - loss: 0.5829 - accuracy: 0.7182 - val_loss: 0.5527 - val_accuracy: 0.7339\n",
      "Epoch 9/200\n",
      "644/644 [==============================] - 1s 1ms/step - loss: 0.5816 - accuracy: 0.7197 - val_loss: 0.5550 - val_accuracy: 0.7335\n",
      "Epoch 10/200\n",
      "644/644 [==============================] - 1s 1ms/step - loss: 0.5816 - accuracy: 0.7200 - val_loss: 0.5536 - val_accuracy: 0.7349\n",
      "Epoch 11/200\n",
      "644/644 [==============================] - 1s 1ms/step - loss: 0.5804 - accuracy: 0.7199 - val_loss: 0.5514 - val_accuracy: 0.7326\n",
      "Epoch 12/200\n",
      "644/644 [==============================] - 1s 2ms/step - loss: 0.5785 - accuracy: 0.7201 - val_loss: 0.5507 - val_accuracy: 0.7341\n",
      "Epoch 13/200\n",
      "644/644 [==============================] - 1s 1ms/step - loss: 0.5797 - accuracy: 0.7206 - val_loss: 0.5543 - val_accuracy: 0.7298\n",
      "Epoch 14/200\n",
      "644/644 [==============================] - 1s 2ms/step - loss: 0.5750 - accuracy: 0.7214 - val_loss: 0.5558 - val_accuracy: 0.7273\n",
      "Epoch 15/200\n",
      "644/644 [==============================] - 1s 1ms/step - loss: 0.5776 - accuracy: 0.7202 - val_loss: 0.5533 - val_accuracy: 0.7324\n",
      "Epoch 16/200\n",
      "644/644 [==============================] - 1s 1ms/step - loss: 0.5778 - accuracy: 0.7207 - val_loss: 0.5507 - val_accuracy: 0.7312\n",
      "Epoch 17/200\n",
      "644/644 [==============================] - 1s 1ms/step - loss: 0.5763 - accuracy: 0.7251 - val_loss: 0.5538 - val_accuracy: 0.7333\n",
      "Epoch 18/200\n",
      "644/644 [==============================] - 1s 2ms/step - loss: 0.5771 - accuracy: 0.7234 - val_loss: 0.5566 - val_accuracy: 0.7294\n",
      "Epoch 19/200\n",
      "644/644 [==============================] - 1s 1ms/step - loss: 0.5770 - accuracy: 0.7222 - val_loss: 0.5527 - val_accuracy: 0.7341\n",
      "Epoch 20/200\n",
      "644/644 [==============================] - 1s 1ms/step - loss: 0.5750 - accuracy: 0.7239 - val_loss: 0.5526 - val_accuracy: 0.7324\n",
      "Epoch 21/200\n",
      "644/644 [==============================] - 1s 1ms/step - loss: 0.5755 - accuracy: 0.7246 - val_loss: 0.5514 - val_accuracy: 0.7328\n",
      "Epoch 22/200\n",
      "644/644 [==============================] - 1s 1ms/step - loss: 0.5750 - accuracy: 0.7240 - val_loss: 0.5514 - val_accuracy: 0.7314\n",
      "Early stopping triggered at epoch 22\n",
      "Number of epochs completed: 22\n"
     ]
    }
   ],
   "source": [
    "# Create the model\n",
    "nn = create_model(input_dim=X_train_scaled.shape[1])\n",
    "\n",
    "# Implement early stopping\n",
    "early_stopping = tf.keras.callbacks.EarlyStopping(monitor='val_loss', patience=10, restore_best_weights=True)\n",
    "\n",
    "# Train the model with validation split\n",
    "history = nn.fit(X_train_scaled, y_train, epochs=200, batch_size=32, validation_split=0.2, callbacks=[early_stopping])\n",
    "\n",
    "# Check if early stopping was triggered\n",
    "if early_stopping.stopped_epoch > 0:\n",
    "    print(f\"Early stopping triggered at epoch {early_stopping.stopped_epoch + 1}\")\n",
    "\n",
    "# Print the number of epochs completed\n",
    "print(f\"Number of epochs completed: {len(history.history['loss'])}\")"
   ]
  },
  {
   "cell_type": "code",
   "execution_count": 19,
   "metadata": {},
   "outputs": [
    {
     "name": "stdout",
     "output_type": "stream",
     "text": [
      "268/268 - 0s - loss: 0.5579 - accuracy: 0.7269 - 237ms/epoch - 884us/step\n",
      "Loss: 0.557867705821991, Accuracy: 0.7268804907798767\n"
     ]
    }
   ],
   "source": [
    "\n",
    "\n",
    "# Evaluate the model using the test data\n",
    "model_loss, model_accuracy = nn.evaluate(X_test_scaled, y_test, verbose=2)\n",
    "print(f\"Loss: {model_loss}, Accuracy: {model_accuracy}\")"
   ]
  },
  {
   "cell_type": "code",
   "execution_count": 20,
   "metadata": {},
   "outputs": [],
   "source": [
    "# Custom function to calculate permutation importance\n",
    "def custom_permutation_importance(model, X_test, y_test, feature_names, n_repeats=10):\n",
    "    baseline_accuracy = model.evaluate(X_test, y_test, verbose=0)[1]\n",
    "    importances = np.zeros(X_test.shape[1])\n",
    "    for i in range(X_test.shape[1]):\n",
    "        scores = np.zeros(n_repeats)\n",
    "        for n in range(n_repeats):\n",
    "            X_test_permuted = X_test.copy()\n",
    "            np.random.shuffle(X_test_permuted[:, i])\n",
    "            permuted_accuracy = model.evaluate(X_test_permuted, y_test, verbose=0)[1]\n",
    "            scores[n] = baseline_accuracy - permuted_accuracy\n",
    "        importances[i] = np.mean(scores)\n",
    "    return importances\n"
   ]
  },
  {
   "cell_type": "code",
   "execution_count": 21,
   "metadata": {},
   "outputs": [
    {
     "name": "stdout",
     "output_type": "stream",
     "text": [
      "AFFILIATION_CompanySponsored: 0.1037\n",
      "ORGANIZATION_Association: 0.0360\n",
      "ORGANIZATION_Trust: 0.0317\n",
      "AFFILIATION_Independent: 0.0191\n",
      "APPLICATION_TYPE_T5: 0.0179\n",
      "APPLICATION_TYPE_Other: 0.0128\n",
      "APPLICATION_TYPE_T3: 0.0115\n",
      "CLASSIFICATION_Other: 0.0064\n",
      "INCOME_AMT_1M-5M: 0.0040\n",
      "INCOME_AMT_10M-50M: 0.0037\n",
      "APPLICATION_TYPE_T6: 0.0036\n",
      "INCOME_AMT_100000-499999: 0.0028\n",
      "CLASSIFICATION_C2000: 0.0026\n",
      "ORGANIZATION_Co-operative: 0.0025\n",
      "USE_CASE_ProductDev: 0.0025\n",
      "APPLICATION_TYPE_T19: 0.0018\n",
      "INCOME_AMT_5M-10M: 0.0016\n",
      "APPLICATION_TYPE_T4: 0.0015\n",
      "CLASSIFICATION_C3000: 0.0013\n",
      "INCOME_AMT_50M+: 0.0010\n",
      "USE_CASE_Preservation: 0.0010\n",
      "ORGANIZATION_Corporation: 0.0006\n",
      "USE_CASE_CommunityServ: 0.0003\n",
      "CLASSIFICATION_C1000: 0.0003\n",
      "ASK_AMT: 0.0003\n",
      "CLASSIFICATION_C1200: 0.0003\n",
      "USE_CASE_Heathcare: 0.0002\n",
      "INCOME_AMT_10000-24999: 0.0002\n",
      "USE_CASE_Other: 0.0001\n",
      "AFFILIATION_National: 0.0001\n",
      "CLASSIFICATION_C2100: -0.0001\n",
      "INCOME_AMT_1-9999: -0.0002\n",
      "APPLICATION_TYPE_T8: -0.0004\n"
     ]
    }
   ],
   "source": [
    "# Calculate permutation importance\n",
    "importances = custom_permutation_importance(nn, X_test_scaled, y_test, feature_names)\n",
    "\n",
    "# Save permutation importance to a text file\n",
    "with open('permutation_importance.txt', 'w') as f:\n",
    "    for i in np.argsort(importances)[::-1]:\n",
    "        f.write(f\"{feature_names[i]}: {importances[i]:.4f}\\n\")\n",
    "\n",
    "# Display permutation importance\n",
    "for i in np.argsort(importances)[::-1]:\n",
    "    print(f\"{feature_names[i]}: {importances[i]:.4f}\")"
   ]
  },
  {
   "cell_type": "code",
   "execution_count": 22,
   "metadata": {},
   "outputs": [
    {
     "name": "stderr",
     "output_type": "stream",
     "text": [
      "c:\\Users\\jimco\\anaconda3\\envs\\ml_env\\lib\\site-packages\\keras\\src\\engine\\training.py:3103: UserWarning: You are saving your model as an HDF5 file via `model.save()`. This file format is considered legacy. We recommend using instead the native Keras format, e.g. `model.save('my_model.keras')`.\n",
      "  saving_api.save_model(\n"
     ]
    }
   ],
   "source": [
    "# Save the optimized model to an HDF5 file\n",
    "nn.save('AlphabetSoupCharity_Optimized6rdAttempt.h5')"
   ]
  },
  {
   "cell_type": "code",
   "execution_count": 26,
   "metadata": {},
   "outputs": [],
   "source": [
    "# Step 3: Compare with Other Models\n",
    "models = {\n",
    "    \"Logistic Regression\": LogisticRegression(random_state=1),\n",
    "    \"Decision Tree\": DecisionTreeClassifier(random_state=1),\n",
    "    \"Random Forest\": RandomForestClassifier(random_state=1),\n",
    "    \"SVM\": SVC(random_state=1),\n",
    "    \"KNN\": KNeighborsClassifier(),\n",
    "    \"Gradient Boosting\": GradientBoostingClassifier(random_state=1)\n",
    "}"
   ]
  },
  {
   "cell_type": "code",
   "execution_count": 27,
   "metadata": {},
   "outputs": [
    {
     "name": "stdout",
     "output_type": "stream",
     "text": [
      "Logistic Regression Accuracy: 0.7247\n",
      "Decision Tree Accuracy: 0.7134\n",
      "Random Forest Accuracy: 0.7139\n",
      "SVM Accuracy: 0.7304\n",
      "KNN Accuracy: 0.7097\n",
      "Gradient Boosting Accuracy: 0.7276\n"
     ]
    }
   ],
   "source": [
    "# Train and evaluate each model\n",
    "for model_name, model in models.items():\n",
    "    model.fit(X_train_scaled, y_train)\n",
    "    y_pred = model.predict(X_test_scaled)\n",
    "    accuracy = accuracy_score(y_test, y_pred)\n",
    "    print(f\"{model_name} Accuracy: {accuracy:.4f}\")"
   ]
  }
 ],
 "metadata": {
  "kernelspec": {
   "display_name": "ml_env",
   "language": "python",
   "name": "python3"
  },
  "language_info": {
   "codemirror_mode": {
    "name": "ipython",
    "version": 3
   },
   "file_extension": ".py",
   "mimetype": "text/x-python",
   "name": "python",
   "nbconvert_exporter": "python",
   "pygments_lexer": "ipython3",
   "version": "3.10.16"
  }
 },
 "nbformat": 4,
 "nbformat_minor": 4
}
