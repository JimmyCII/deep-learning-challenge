{
 "cells": [
  {
   "cell_type": "markdown",
   "metadata": {},
   "source": [
    "## Preprocessing"
   ]
  },
  {
   "cell_type": "code",
   "execution_count": 13,
   "metadata": {},
   "outputs": [
    {
     "data": {
      "application/vnd.microsoft.datawrangler.viewer.v0+json": {
       "columns": [
        {
         "name": "index",
         "rawType": "int64",
         "type": "integer"
        },
        {
         "name": "EIN",
         "rawType": "int64",
         "type": "integer"
        },
        {
         "name": "NAME",
         "rawType": "object",
         "type": "string"
        },
        {
         "name": "APPLICATION_TYPE",
         "rawType": "object",
         "type": "string"
        },
        {
         "name": "AFFILIATION",
         "rawType": "object",
         "type": "string"
        },
        {
         "name": "CLASSIFICATION",
         "rawType": "object",
         "type": "string"
        },
        {
         "name": "USE_CASE",
         "rawType": "object",
         "type": "string"
        },
        {
         "name": "ORGANIZATION",
         "rawType": "object",
         "type": "string"
        },
        {
         "name": "STATUS",
         "rawType": "int64",
         "type": "integer"
        },
        {
         "name": "INCOME_AMT",
         "rawType": "object",
         "type": "string"
        },
        {
         "name": "SPECIAL_CONSIDERATIONS",
         "rawType": "object",
         "type": "string"
        },
        {
         "name": "ASK_AMT",
         "rawType": "int64",
         "type": "integer"
        },
        {
         "name": "IS_SUCCESSFUL",
         "rawType": "int64",
         "type": "integer"
        }
       ],
       "conversionMethod": "pd.DataFrame",
       "ref": "987aa49c-2d03-4eda-854e-5bf9f0aad723",
       "rows": [
        [
         "0",
         "10520599",
         "BLUE KNIGHTS MOTORCYCLE CLUB",
         "T10",
         "Independent",
         "C1000",
         "ProductDev",
         "Association",
         "1",
         "0",
         "N",
         "5000",
         "1"
        ],
        [
         "1",
         "10531628",
         "AMERICAN CHESAPEAKE CLUB CHARITABLE TR",
         "T3",
         "Independent",
         "C2000",
         "Preservation",
         "Co-operative",
         "1",
         "1-9999",
         "N",
         "108590",
         "1"
        ],
        [
         "2",
         "10547893",
         "ST CLOUD PROFESSIONAL FIREFIGHTERS",
         "T5",
         "CompanySponsored",
         "C3000",
         "ProductDev",
         "Association",
         "1",
         "0",
         "N",
         "5000",
         "0"
        ],
        [
         "3",
         "10553066",
         "SOUTHSIDE ATHLETIC ASSOCIATION",
         "T3",
         "CompanySponsored",
         "C2000",
         "Preservation",
         "Trust",
         "1",
         "10000-24999",
         "N",
         "6692",
         "1"
        ],
        [
         "4",
         "10556103",
         "GENETIC RESEARCH INSTITUTE OF THE DESERT",
         "T3",
         "Independent",
         "C1000",
         "Heathcare",
         "Trust",
         "1",
         "100000-499999",
         "N",
         "142590",
         "1"
        ]
       ],
       "shape": {
        "columns": 12,
        "rows": 5
       }
      },
      "text/html": [
       "<div>\n",
       "<style scoped>\n",
       "    .dataframe tbody tr th:only-of-type {\n",
       "        vertical-align: middle;\n",
       "    }\n",
       "\n",
       "    .dataframe tbody tr th {\n",
       "        vertical-align: top;\n",
       "    }\n",
       "\n",
       "    .dataframe thead th {\n",
       "        text-align: right;\n",
       "    }\n",
       "</style>\n",
       "<table border=\"1\" class=\"dataframe\">\n",
       "  <thead>\n",
       "    <tr style=\"text-align: right;\">\n",
       "      <th></th>\n",
       "      <th>EIN</th>\n",
       "      <th>NAME</th>\n",
       "      <th>APPLICATION_TYPE</th>\n",
       "      <th>AFFILIATION</th>\n",
       "      <th>CLASSIFICATION</th>\n",
       "      <th>USE_CASE</th>\n",
       "      <th>ORGANIZATION</th>\n",
       "      <th>STATUS</th>\n",
       "      <th>INCOME_AMT</th>\n",
       "      <th>SPECIAL_CONSIDERATIONS</th>\n",
       "      <th>ASK_AMT</th>\n",
       "      <th>IS_SUCCESSFUL</th>\n",
       "    </tr>\n",
       "  </thead>\n",
       "  <tbody>\n",
       "    <tr>\n",
       "      <th>0</th>\n",
       "      <td>10520599</td>\n",
       "      <td>BLUE KNIGHTS MOTORCYCLE CLUB</td>\n",
       "      <td>T10</td>\n",
       "      <td>Independent</td>\n",
       "      <td>C1000</td>\n",
       "      <td>ProductDev</td>\n",
       "      <td>Association</td>\n",
       "      <td>1</td>\n",
       "      <td>0</td>\n",
       "      <td>N</td>\n",
       "      <td>5000</td>\n",
       "      <td>1</td>\n",
       "    </tr>\n",
       "    <tr>\n",
       "      <th>1</th>\n",
       "      <td>10531628</td>\n",
       "      <td>AMERICAN CHESAPEAKE CLUB CHARITABLE TR</td>\n",
       "      <td>T3</td>\n",
       "      <td>Independent</td>\n",
       "      <td>C2000</td>\n",
       "      <td>Preservation</td>\n",
       "      <td>Co-operative</td>\n",
       "      <td>1</td>\n",
       "      <td>1-9999</td>\n",
       "      <td>N</td>\n",
       "      <td>108590</td>\n",
       "      <td>1</td>\n",
       "    </tr>\n",
       "    <tr>\n",
       "      <th>2</th>\n",
       "      <td>10547893</td>\n",
       "      <td>ST CLOUD PROFESSIONAL FIREFIGHTERS</td>\n",
       "      <td>T5</td>\n",
       "      <td>CompanySponsored</td>\n",
       "      <td>C3000</td>\n",
       "      <td>ProductDev</td>\n",
       "      <td>Association</td>\n",
       "      <td>1</td>\n",
       "      <td>0</td>\n",
       "      <td>N</td>\n",
       "      <td>5000</td>\n",
       "      <td>0</td>\n",
       "    </tr>\n",
       "    <tr>\n",
       "      <th>3</th>\n",
       "      <td>10553066</td>\n",
       "      <td>SOUTHSIDE ATHLETIC ASSOCIATION</td>\n",
       "      <td>T3</td>\n",
       "      <td>CompanySponsored</td>\n",
       "      <td>C2000</td>\n",
       "      <td>Preservation</td>\n",
       "      <td>Trust</td>\n",
       "      <td>1</td>\n",
       "      <td>10000-24999</td>\n",
       "      <td>N</td>\n",
       "      <td>6692</td>\n",
       "      <td>1</td>\n",
       "    </tr>\n",
       "    <tr>\n",
       "      <th>4</th>\n",
       "      <td>10556103</td>\n",
       "      <td>GENETIC RESEARCH INSTITUTE OF THE DESERT</td>\n",
       "      <td>T3</td>\n",
       "      <td>Independent</td>\n",
       "      <td>C1000</td>\n",
       "      <td>Heathcare</td>\n",
       "      <td>Trust</td>\n",
       "      <td>1</td>\n",
       "      <td>100000-499999</td>\n",
       "      <td>N</td>\n",
       "      <td>142590</td>\n",
       "      <td>1</td>\n",
       "    </tr>\n",
       "  </tbody>\n",
       "</table>\n",
       "</div>"
      ],
      "text/plain": [
       "        EIN                                      NAME APPLICATION_TYPE  \\\n",
       "0  10520599              BLUE KNIGHTS MOTORCYCLE CLUB              T10   \n",
       "1  10531628    AMERICAN CHESAPEAKE CLUB CHARITABLE TR               T3   \n",
       "2  10547893        ST CLOUD PROFESSIONAL FIREFIGHTERS               T5   \n",
       "3  10553066            SOUTHSIDE ATHLETIC ASSOCIATION               T3   \n",
       "4  10556103  GENETIC RESEARCH INSTITUTE OF THE DESERT               T3   \n",
       "\n",
       "        AFFILIATION CLASSIFICATION      USE_CASE  ORGANIZATION  STATUS  \\\n",
       "0       Independent          C1000    ProductDev   Association       1   \n",
       "1       Independent          C2000  Preservation  Co-operative       1   \n",
       "2  CompanySponsored          C3000    ProductDev   Association       1   \n",
       "3  CompanySponsored          C2000  Preservation         Trust       1   \n",
       "4       Independent          C1000     Heathcare         Trust       1   \n",
       "\n",
       "      INCOME_AMT SPECIAL_CONSIDERATIONS  ASK_AMT  IS_SUCCESSFUL  \n",
       "0              0                      N     5000              1  \n",
       "1         1-9999                      N   108590              1  \n",
       "2              0                      N     5000              0  \n",
       "3    10000-24999                      N     6692              1  \n",
       "4  100000-499999                      N   142590              1  "
      ]
     },
     "execution_count": 13,
     "metadata": {},
     "output_type": "execute_result"
    }
   ],
   "source": [
    "# Import our dependencies\n",
    "from sklearn.model_selection import train_test_split\n",
    "from sklearn.preprocessing import StandardScaler\n",
    "import pandas as pd\n",
    "import tensorflow as tf\n",
    "\n",
    "# Import pandas and read the charity_data.csv from the provided cloud URL.\n",
    "import pandas as pd\n",
    "application_df = pd.read_csv(\"https://static.bc-edx.com/data/dl-1-2/m21/lms/starter/charity_data.csv\")\n",
    "application_df.head()"
   ]
  },
  {
   "cell_type": "code",
   "execution_count": 14,
   "metadata": {},
   "outputs": [
    {
     "data": {
      "application/vnd.microsoft.datawrangler.viewer.v0+json": {
       "columns": [
        {
         "name": "index",
         "rawType": "int64",
         "type": "integer"
        },
        {
         "name": "APPLICATION_TYPE",
         "rawType": "object",
         "type": "string"
        },
        {
         "name": "AFFILIATION",
         "rawType": "object",
         "type": "string"
        },
        {
         "name": "CLASSIFICATION",
         "rawType": "object",
         "type": "string"
        },
        {
         "name": "USE_CASE",
         "rawType": "object",
         "type": "string"
        },
        {
         "name": "ORGANIZATION",
         "rawType": "object",
         "type": "string"
        },
        {
         "name": "STATUS",
         "rawType": "int64",
         "type": "integer"
        },
        {
         "name": "INCOME_AMT",
         "rawType": "object",
         "type": "string"
        },
        {
         "name": "SPECIAL_CONSIDERATIONS",
         "rawType": "object",
         "type": "string"
        },
        {
         "name": "ASK_AMT",
         "rawType": "int64",
         "type": "integer"
        },
        {
         "name": "IS_SUCCESSFUL",
         "rawType": "int64",
         "type": "integer"
        }
       ],
       "conversionMethod": "pd.DataFrame",
       "ref": "bd4fc5f7-b4f6-4a18-9e88-7f76f9673b79",
       "rows": [
        [
         "0",
         "T10",
         "Independent",
         "C1000",
         "ProductDev",
         "Association",
         "1",
         "0",
         "N",
         "5000",
         "1"
        ],
        [
         "1",
         "T3",
         "Independent",
         "C2000",
         "Preservation",
         "Co-operative",
         "1",
         "1-9999",
         "N",
         "108590",
         "1"
        ],
        [
         "2",
         "T5",
         "CompanySponsored",
         "C3000",
         "ProductDev",
         "Association",
         "1",
         "0",
         "N",
         "5000",
         "0"
        ],
        [
         "3",
         "T3",
         "CompanySponsored",
         "C2000",
         "Preservation",
         "Trust",
         "1",
         "10000-24999",
         "N",
         "6692",
         "1"
        ],
        [
         "4",
         "T3",
         "Independent",
         "C1000",
         "Heathcare",
         "Trust",
         "1",
         "100000-499999",
         "N",
         "142590",
         "1"
        ]
       ],
       "shape": {
        "columns": 10,
        "rows": 5
       }
      },
      "text/html": [
       "<div>\n",
       "<style scoped>\n",
       "    .dataframe tbody tr th:only-of-type {\n",
       "        vertical-align: middle;\n",
       "    }\n",
       "\n",
       "    .dataframe tbody tr th {\n",
       "        vertical-align: top;\n",
       "    }\n",
       "\n",
       "    .dataframe thead th {\n",
       "        text-align: right;\n",
       "    }\n",
       "</style>\n",
       "<table border=\"1\" class=\"dataframe\">\n",
       "  <thead>\n",
       "    <tr style=\"text-align: right;\">\n",
       "      <th></th>\n",
       "      <th>APPLICATION_TYPE</th>\n",
       "      <th>AFFILIATION</th>\n",
       "      <th>CLASSIFICATION</th>\n",
       "      <th>USE_CASE</th>\n",
       "      <th>ORGANIZATION</th>\n",
       "      <th>STATUS</th>\n",
       "      <th>INCOME_AMT</th>\n",
       "      <th>SPECIAL_CONSIDERATIONS</th>\n",
       "      <th>ASK_AMT</th>\n",
       "      <th>IS_SUCCESSFUL</th>\n",
       "    </tr>\n",
       "  </thead>\n",
       "  <tbody>\n",
       "    <tr>\n",
       "      <th>0</th>\n",
       "      <td>T10</td>\n",
       "      <td>Independent</td>\n",
       "      <td>C1000</td>\n",
       "      <td>ProductDev</td>\n",
       "      <td>Association</td>\n",
       "      <td>1</td>\n",
       "      <td>0</td>\n",
       "      <td>N</td>\n",
       "      <td>5000</td>\n",
       "      <td>1</td>\n",
       "    </tr>\n",
       "    <tr>\n",
       "      <th>1</th>\n",
       "      <td>T3</td>\n",
       "      <td>Independent</td>\n",
       "      <td>C2000</td>\n",
       "      <td>Preservation</td>\n",
       "      <td>Co-operative</td>\n",
       "      <td>1</td>\n",
       "      <td>1-9999</td>\n",
       "      <td>N</td>\n",
       "      <td>108590</td>\n",
       "      <td>1</td>\n",
       "    </tr>\n",
       "    <tr>\n",
       "      <th>2</th>\n",
       "      <td>T5</td>\n",
       "      <td>CompanySponsored</td>\n",
       "      <td>C3000</td>\n",
       "      <td>ProductDev</td>\n",
       "      <td>Association</td>\n",
       "      <td>1</td>\n",
       "      <td>0</td>\n",
       "      <td>N</td>\n",
       "      <td>5000</td>\n",
       "      <td>0</td>\n",
       "    </tr>\n",
       "    <tr>\n",
       "      <th>3</th>\n",
       "      <td>T3</td>\n",
       "      <td>CompanySponsored</td>\n",
       "      <td>C2000</td>\n",
       "      <td>Preservation</td>\n",
       "      <td>Trust</td>\n",
       "      <td>1</td>\n",
       "      <td>10000-24999</td>\n",
       "      <td>N</td>\n",
       "      <td>6692</td>\n",
       "      <td>1</td>\n",
       "    </tr>\n",
       "    <tr>\n",
       "      <th>4</th>\n",
       "      <td>T3</td>\n",
       "      <td>Independent</td>\n",
       "      <td>C1000</td>\n",
       "      <td>Heathcare</td>\n",
       "      <td>Trust</td>\n",
       "      <td>1</td>\n",
       "      <td>100000-499999</td>\n",
       "      <td>N</td>\n",
       "      <td>142590</td>\n",
       "      <td>1</td>\n",
       "    </tr>\n",
       "  </tbody>\n",
       "</table>\n",
       "</div>"
      ],
      "text/plain": [
       "  APPLICATION_TYPE       AFFILIATION CLASSIFICATION      USE_CASE  \\\n",
       "0              T10       Independent          C1000    ProductDev   \n",
       "1               T3       Independent          C2000  Preservation   \n",
       "2               T5  CompanySponsored          C3000    ProductDev   \n",
       "3               T3  CompanySponsored          C2000  Preservation   \n",
       "4               T3       Independent          C1000     Heathcare   \n",
       "\n",
       "   ORGANIZATION  STATUS     INCOME_AMT SPECIAL_CONSIDERATIONS  ASK_AMT  \\\n",
       "0   Association       1              0                      N     5000   \n",
       "1  Co-operative       1         1-9999                      N   108590   \n",
       "2   Association       1              0                      N     5000   \n",
       "3         Trust       1    10000-24999                      N     6692   \n",
       "4         Trust       1  100000-499999                      N   142590   \n",
       "\n",
       "   IS_SUCCESSFUL  \n",
       "0              1  \n",
       "1              1  \n",
       "2              0  \n",
       "3              1  \n",
       "4              1  "
      ]
     },
     "execution_count": 14,
     "metadata": {},
     "output_type": "execute_result"
    }
   ],
   "source": [
    "# Drop the non-beneficial ID columns, 'EIN' and 'NAME'.\n",
    "application_df = application_df.drop(columns=[\"EIN\", \"NAME\"])\n",
    "application_df.head()\n"
   ]
  },
  {
   "cell_type": "markdown",
   "metadata": {},
   "source": [
    "What variable(s) are the target(s) for your model?\n",
    "    - Is Successful\n",
    "What variable(s) are the feature(s) for your model?\n",
    "    - APPLICATION_TYPE, AFFILIATION, CLASSIFICATION, USE_CASE, ORGANIZATION, STATUS, INCOME_AMT, SPECIAL_CONSIDERATIONS, ASK_AMT        "
   ]
  },
  {
   "cell_type": "code",
   "execution_count": 15,
   "metadata": {},
   "outputs": [
    {
     "data": {
      "text/plain": [
       "APPLICATION_TYPE            17\n",
       "AFFILIATION                  6\n",
       "CLASSIFICATION              71\n",
       "USE_CASE                     5\n",
       "ORGANIZATION                 4\n",
       "STATUS                       2\n",
       "INCOME_AMT                   9\n",
       "SPECIAL_CONSIDERATIONS       2\n",
       "ASK_AMT                   8747\n",
       "IS_SUCCESSFUL                2\n",
       "dtype: int64"
      ]
     },
     "execution_count": 15,
     "metadata": {},
     "output_type": "execute_result"
    }
   ],
   "source": [
    "# Determine the number of unique values in each column.\n",
    "application_df.nunique()\n",
    "\n"
   ]
  },
  {
   "cell_type": "code",
   "execution_count": 16,
   "metadata": {},
   "outputs": [
    {
     "name": "stdout",
     "output_type": "stream",
     "text": [
      "APPLICATION_TYPE\n",
      "T3     27037\n",
      "T4      1542\n",
      "T6      1216\n",
      "T5      1173\n",
      "T19     1065\n",
      "T8       737\n",
      "T7       725\n",
      "T10      528\n",
      "T9       156\n",
      "T13       66\n",
      "T12       27\n",
      "T2        16\n",
      "T25        3\n",
      "T14        3\n",
      "T29        2\n",
      "T15        2\n",
      "T17        1\n",
      "Name: count, dtype: int64\n"
     ]
    }
   ],
   "source": [
    "# Look at APPLICATION_TYPE value counts to identify and replace with \"Other\"\n",
    "import matplotlib.pyplot as plt\n",
    "application_type_counts = application_df['APPLICATION_TYPE'].value_counts()\n",
    "print(application_type_counts)\n",
    "# Determine which values to replace"
   ]
  },
  {
   "cell_type": "markdown",
   "metadata": {},
   "source": [
    "The log scale was used to gain a better understanding of the distribution  of the less frequent application types and make a more informed decision about the cutoff value"
   ]
  },
  {
   "cell_type": "code",
   "execution_count": 18,
   "metadata": {},
   "outputs": [
    {
     "data": {
      "image/png": "[encoded data removed]",
      "text/plain": [
       "<Figure size 1000x600 with 1 Axes>"
      ]
     },
     "metadata": {},
     "output_type": "display_data"
    }
   ],
   "source": [
    "# Step 2: Visualize the distribution\n",
    "plt.figure(figsize=(10, 6))\n",
    "application_type_counts.plot(kind='bar')\n",
    "plt.title('Frequency Distribution of Application Types')\n",
    "plt.xlabel('Application Type')\n",
    "plt.ylabel('Frequency')\n",
    "plt.yscale('log')  # Use log scale for better visualization of outliers\n",
    "plt.show()\n"
   ]
  },
  {
   "cell_type": "code",
   "execution_count": 19,
   "metadata": {},
   "outputs": [
    {
     "data": {
      "text/plain": [
       "APPLICATION_TYPE\n",
       "T3       27037\n",
       "T4        1542\n",
       "T6        1216\n",
       "T5        1173\n",
       "T19       1065\n",
       "Other      804\n",
       "T8         737\n",
       "T7         725\n",
       "Name: count, dtype: int64"
      ]
     },
     "execution_count": 19,
     "metadata": {},
     "output_type": "execute_result"
    }
   ],
   "source": [
    "# Choose a cutoff value and create a list of application types to be replaced\n",
    "# use the variable name `application_types_to_replace`\n",
    "# Choose a cutoff value (example: 500)\n",
    "cutoff_value = 530\n",
    "\n",
    "# Create a list of application types to be replaced\n",
    "application_types_to_replace = application_type_counts[application_type_counts < cutoff_value].index.tolist()\n",
    "\n",
    "# Replace in dataframe\n",
    "for app in application_types_to_replace:\n",
    "    application_df['APPLICATION_TYPE'] = application_df['APPLICATION_TYPE'].replace(app,\"Other\")\n",
    "\n",
    "# Check to make sure replacement was successful\n",
    "application_df['APPLICATION_TYPE'].value_counts()"
   ]
  },
  {
   "cell_type": "code",
   "execution_count": 21,
   "metadata": {},
   "outputs": [
    {
     "data": {
      "image/png": "[encoded data removed]",
      "text/plain": [
       "<Figure size 1000x600 with 1 Axes>"
      ]
     },
     "metadata": {},
     "output_type": "display_data"
    }
   ],
   "source": [
    "application_type_counts = application_df['APPLICATION_TYPE'].value_counts()\n",
    "\n",
    "plt.figure(figsize=(10, 6))\n",
    "application_type_counts .plot(kind='bar')\n",
    "plt.title('Frequency Distribution of Application Types')\n",
    "plt.xlabel('Application Type')\n",
    "plt.ylabel('Frequency')\n",
    "plt.yscale('log')  # Use log scale for better visualization of outliers\n",
    "plt.show()"
   ]
  },
  {
   "cell_type": "code",
   "execution_count": 22,
   "metadata": {},
   "outputs": [
    {
     "name": "stdout",
     "output_type": "stream",
     "text": [
      "CLASSIFICATION\n",
      "C1000    17326\n",
      "C2000     6074\n",
      "C1200     4837\n",
      "C3000     1918\n",
      "C2100     1883\n",
      "         ...  \n",
      "C4120        1\n",
      "C8210        1\n",
      "C2561        1\n",
      "C4500        1\n",
      "C2150        1\n",
      "Name: count, Length: 71, dtype: int64\n"
     ]
    }
   ],
   "source": [
    "# Look at CLASSIFICATION value counts to identify and replace with \"Other\"\n",
    "classification_counts = application_df['CLASSIFICATION'].value_counts()\n",
    "print(classification_counts)"
   ]
  },
  {
   "cell_type": "code",
   "execution_count": 24,
   "metadata": {},
   "outputs": [
    {
     "name": "stdout",
     "output_type": "stream",
     "text": [
      "CLASSIFICATION\n",
      "C1000    17326\n",
      "C2000     6074\n",
      "C1200     4837\n",
      "C3000     1918\n",
      "C2100     1883\n",
      "C7000      777\n",
      "C1700      287\n",
      "C4000      194\n",
      "C5000      116\n",
      "C1270      114\n",
      "C2700      104\n",
      "C2800       95\n",
      "C7100       75\n",
      "C1300       58\n",
      "C1280       50\n",
      "C1230       36\n",
      "C1400       34\n",
      "C7200       32\n",
      "C2300       32\n",
      "C1240       30\n",
      "C8000       20\n",
      "C7120       18\n",
      "C1500       16\n",
      "C1800       15\n",
      "C6000       15\n",
      "C1250       14\n",
      "C8200       11\n",
      "C1238       10\n",
      "C1278       10\n",
      "C1235        9\n",
      "C1237        9\n",
      "C7210        7\n",
      "C2400        6\n",
      "C1720        6\n",
      "C4100        6\n",
      "C1257        5\n",
      "C1600        5\n",
      "C1260        3\n",
      "C2710        3\n",
      "C0           3\n",
      "C3200        2\n",
      "C1234        2\n",
      "C1246        2\n",
      "C1267        2\n",
      "C1256        2\n",
      "Name: count, dtype: int64\n"
     ]
    },
    {
     "data": {
      "image/png": "[encoded data removed]",
      "text/plain": [
       "<Figure size 1000x600 with 1 Axes>"
      ]
     },
     "metadata": {},
     "output_type": "display_data"
    }
   ],
   "source": [
    "# You may find it helpful to look at CLASSIFICATION value counts >1\n",
    "print(classification_counts[classification_counts > 1])\n",
    "\n",
    "# Step 2: Visualize the distribution\n",
    "plt.figure(figsize=(10, 6))\n",
    "classification_counts.plot(kind='bar')  \n",
    "plt.title('Frequency Distribution of Classifications')\n",
    "plt.xlabel('Classification')\n",
    "plt.ylabel('Frequency')\n",
    "plt.yscale('log')  # Use log scale for better visualization of outliers\n",
    "plt.show()"
   ]
  },
  {
   "cell_type": "code",
   "execution_count": 26,
   "metadata": {},
   "outputs": [
    {
     "data": {
      "text/plain": [
       "CLASSIFICATION\n",
       "C1000    17326\n",
       "C2000     6074\n",
       "C1200     4837\n",
       "Other     2261\n",
       "C3000     1918\n",
       "C2100     1883\n",
       "Name: count, dtype: int64"
      ]
     },
     "execution_count": 26,
     "metadata": {},
     "output_type": "execute_result"
    }
   ],
   "source": [
    "# Choose a cutoff value and create a list of classifications to be replaced\n",
    "# use the variable name `classifications_to_replace`\n",
    "\n",
    "classification_cutoff_value = 800\n",
    "\n",
    "# Create a list of application types to be replaced\n",
    "classifications_to_replace = classification_counts[classification_counts < classification_cutoff_value ].index.tolist()\n",
    "\n",
    "\n",
    "for cls in classifications_to_replace:\n",
    "    application_df['CLASSIFICATION'] = application_df['CLASSIFICATION'].replace(cls,\"Other\")\n",
    "\n",
    "# Check to make sure replacement was successful\n",
    "application_df['CLASSIFICATION'].value_counts()"
   ]
  },
  {
   "cell_type": "code",
   "execution_count": 27,
   "metadata": {},
   "outputs": [
    {
     "name": "stdout",
     "output_type": "stream",
     "text": [
      "STATUS\n",
      "1    34294\n",
      "0        5\n",
      "Name: count, dtype: int64\n"
     ]
    }
   ],
   "source": [
    "status_counts = application_df['STATUS'].value_counts()\n",
    "print(status_counts)"
   ]
  },
  {
   "cell_type": "code",
   "execution_count": 28,
   "metadata": {},
   "outputs": [
    {
     "name": "stdout",
     "output_type": "stream",
     "text": [
      "   STATUS  ASK_AMT  IS_SUCCESSFUL  APPLICATION_TYPE_Other  \\\n",
      "0       1     5000              1                    True   \n",
      "1       1   108590              1                   False   \n",
      "2       1     5000              0                   False   \n",
      "3       1     6692              1                   False   \n",
      "4       1   142590              1                   False   \n",
      "\n",
      "   APPLICATION_TYPE_T19  APPLICATION_TYPE_T3  APPLICATION_TYPE_T4  \\\n",
      "0                 False                False                False   \n",
      "1                 False                 True                False   \n",
      "2                 False                False                False   \n",
      "3                 False                 True                False   \n",
      "4                 False                 True                False   \n",
      "\n",
      "   APPLICATION_TYPE_T5  APPLICATION_TYPE_T6  APPLICATION_TYPE_T7  ...  \\\n",
      "0                False                False                False  ...   \n",
      "1                False                False                False  ...   \n",
      "2                 True                False                False  ...   \n",
      "3                False                False                False  ...   \n",
      "4                False                False                False  ...   \n",
      "\n",
      "   INCOME_AMT_1-9999  INCOME_AMT_10000-24999  INCOME_AMT_100000-499999  \\\n",
      "0              False                   False                     False   \n",
      "1               True                   False                     False   \n",
      "2              False                   False                     False   \n",
      "3              False                    True                     False   \n",
      "4              False                   False                      True   \n",
      "\n",
      "   INCOME_AMT_10M-50M  INCOME_AMT_1M-5M  INCOME_AMT_25000-99999  \\\n",
      "0               False             False                   False   \n",
      "1               False             False                   False   \n",
      "2               False             False                   False   \n",
      "3               False             False                   False   \n",
      "4               False             False                   False   \n",
      "\n",
      "   INCOME_AMT_50M+  INCOME_AMT_5M-10M  SPECIAL_CONSIDERATIONS_N  \\\n",
      "0            False              False                      True   \n",
      "1            False              False                      True   \n",
      "2            False              False                      True   \n",
      "3            False              False                      True   \n",
      "4            False              False                      True   \n",
      "\n",
      "   SPECIAL_CONSIDERATIONS_Y  \n",
      "0                     False  \n",
      "1                     False  \n",
      "2                     False  \n",
      "3                     False  \n",
      "4                     False  \n",
      "\n",
      "[5 rows x 43 columns]\n"
     ]
    }
   ],
   "source": [
    "# Convert categorical data to numeric with `pd.get_dummies`\n",
    "categorical_columns = ['APPLICATION_TYPE', 'AFFILIATION', 'CLASSIFICATION',  'USE_CASE', 'ORGANIZATION', 'INCOME_AMT', 'SPECIAL_CONSIDERATIONS']\n",
    "\n",
    "# Convert categorical data to numeric using pd.get_dummies\n",
    "application_df = pd.get_dummies(application_df, columns=categorical_columns)\n",
    "\n",
    "# Display the first few rows of the updated DataFrame\n",
    "print(application_df.head())"
   ]
  },
  {
   "cell_type": "code",
   "execution_count": 29,
   "metadata": {},
   "outputs": [
    {
     "name": "stdout",
     "output_type": "stream",
     "text": [
      "STATUS                          int64\n",
      "ASK_AMT                         int64\n",
      "IS_SUCCESSFUL                   int64\n",
      "APPLICATION_TYPE_Other           bool\n",
      "APPLICATION_TYPE_T19             bool\n",
      "APPLICATION_TYPE_T3              bool\n",
      "APPLICATION_TYPE_T4              bool\n",
      "APPLICATION_TYPE_T5              bool\n",
      "APPLICATION_TYPE_T6              bool\n",
      "APPLICATION_TYPE_T7              bool\n",
      "APPLICATION_TYPE_T8              bool\n",
      "AFFILIATION_CompanySponsored     bool\n",
      "AFFILIATION_Family/Parent        bool\n",
      "AFFILIATION_Independent          bool\n",
      "AFFILIATION_National             bool\n",
      "AFFILIATION_Other                bool\n",
      "AFFILIATION_Regional             bool\n",
      "CLASSIFICATION_C1000             bool\n",
      "CLASSIFICATION_C1200             bool\n",
      "CLASSIFICATION_C2000             bool\n",
      "CLASSIFICATION_C2100             bool\n",
      "CLASSIFICATION_C3000             bool\n",
      "CLASSIFICATION_Other             bool\n",
      "USE_CASE_CommunityServ           bool\n",
      "USE_CASE_Heathcare               bool\n",
      "USE_CASE_Other                   bool\n",
      "USE_CASE_Preservation            bool\n",
      "USE_CASE_ProductDev              bool\n",
      "ORGANIZATION_Association         bool\n",
      "ORGANIZATION_Co-operative        bool\n",
      "ORGANIZATION_Corporation         bool\n",
      "ORGANIZATION_Trust               bool\n",
      "INCOME_AMT_0                     bool\n",
      "INCOME_AMT_1-9999                bool\n",
      "INCOME_AMT_10000-24999           bool\n",
      "INCOME_AMT_100000-499999         bool\n",
      "INCOME_AMT_10M-50M               bool\n",
      "INCOME_AMT_1M-5M                 bool\n",
      "INCOME_AMT_25000-99999           bool\n",
      "INCOME_AMT_50M+                  bool\n",
      "INCOME_AMT_5M-10M                bool\n",
      "SPECIAL_CONSIDERATIONS_N         bool\n",
      "SPECIAL_CONSIDERATIONS_Y         bool\n",
      "dtype: object\n"
     ]
    }
   ],
   "source": [
    "print(application_df.dtypes)"
   ]
  },
  {
   "cell_type": "code",
   "execution_count": 30,
   "metadata": {},
   "outputs": [],
   "source": [
    "# Split our preprocessed data into our features and target arrays\n",
    "y = application_df['IS_SUCCESSFUL'].values\n",
    "x = application_df.drop(columns='IS_SUCCESSFUL').values\n",
    "\n",
    "# Split the preprocessed data into a training and testing dataset\n",
    "X_train, X_test, y_train, y_test = train_test_split(x, y, random_state=42)\n",
    "\n"
   ]
  },
  {
   "cell_type": "code",
   "execution_count": 31,
   "metadata": {},
   "outputs": [],
   "source": [
    "# Create a StandardScaler instances\n",
    "scaler = StandardScaler()\n",
    "\n",
    "# Fit the StandardScaler\n",
    "X_scaler = scaler.fit(X_train)\n",
    "\n",
    "# Scale the data\n",
    "X_train_scaled = X_scaler.transform(X_train)\n",
    "X_test_scaled = X_scaler.transform(X_test)"
   ]
  },
  {
   "cell_type": "markdown",
   "metadata": {},
   "source": [
    "## Compile, Train and Evaluate the Model"
   ]
  },
  {
   "cell_type": "code",
   "execution_count": 32,
   "metadata": {},
   "outputs": [
    {
     "name": "stdout",
     "output_type": "stream",
     "text": [
      "WARNING:tensorflow:From c:\\Users\\jimco\\anaconda3\\envs\\ml_env\\lib\\site-packages\\keras\\src\\backend.py:873: The name tf.get_default_graph is deprecated. Please use tf.compat.v1.get_default_graph instead.\n",
      "\n",
      "Model: \"sequential\"\n",
      "_________________________________________________________________\n",
      " Layer (type)                Output Shape              Param #   \n",
      "=================================================================\n",
      " dense (Dense)               (None, 80)                3440      \n",
      "                                                                 \n",
      " dense_1 (Dense)             (None, 30)                2430      \n",
      "                                                                 \n",
      " dense_2 (Dense)             (None, 1)                 31        \n",
      "                                                                 \n",
      "=================================================================\n",
      "Total params: 5901 (23.05 KB)\n",
      "Trainable params: 5901 (23.05 KB)\n",
      "Non-trainable params: 0 (0.00 Byte)\n",
      "_________________________________________________________________\n"
     ]
    }
   ],
   "source": [
    "# Define the model - deep neural net, i.e., the number of input features and hidden nodes for each layer.\n",
    "#  YOUR CODE GOES HERE\n",
    "\n",
    "nn = tf.keras.models.Sequential()\n",
    "\n",
    "# First hidden layer\n",
    "nn.add(tf.keras.layers.Dense(units=80, activation='relu', input_dim=X_train.shape[1]))\n",
    "\n",
    "# Second hidden layer\n",
    "nn.add(tf.keras.layers.Dense(units=30, activation='relu'))\n",
    "\n",
    "# Output layer\n",
    "nn.add(tf.keras.layers.Dense(units=1, activation='sigmoid'))\n",
    "\n",
    "# Check the structure of the model\n",
    "nn.summary()"
   ]
  },
  {
   "cell_type": "code",
   "execution_count": 33,
   "metadata": {},
   "outputs": [
    {
     "name": "stdout",
     "output_type": "stream",
     "text": [
      "WARNING:tensorflow:From c:\\Users\\jimco\\anaconda3\\envs\\ml_env\\lib\\site-packages\\keras\\src\\optimizers\\__init__.py:309: The name tf.train.Optimizer is deprecated. Please use tf.compat.v1.train.Optimizer instead.\n",
      "\n"
     ]
    }
   ],
   "source": [
    "# Compile the model\n",
    "nn.compile(loss='binary_crossentropy', optimizer='adam', metrics=['accuracy'])"
   ]
  },
  {
   "cell_type": "code",
   "execution_count": 34,
   "metadata": {},
   "outputs": [
    {
     "name": "stdout",
     "output_type": "stream",
     "text": [
      "Epoch 1/100\n",
      "WARNING:tensorflow:From c:\\Users\\jimco\\anaconda3\\envs\\ml_env\\lib\\site-packages\\keras\\src\\utils\\tf_utils.py:492: The name tf.ragged.RaggedTensorValue is deprecated. Please use tf.compat.v1.ragged.RaggedTensorValue instead.\n",
      "\n",
      "WARNING:tensorflow:From c:\\Users\\jimco\\anaconda3\\envs\\ml_env\\lib\\site-packages\\keras\\src\\engine\\base_layer_utils.py:384: The name tf.executing_eagerly_outside_functions is deprecated. Please use tf.compat.v1.executing_eagerly_outside_functions instead.\n",
      "\n",
      "644/644 [==============================] - 1s 1ms/step - loss: 0.5734 - accuracy: 0.7170 - val_loss: 0.5543 - val_accuracy: 0.7347\n",
      "Epoch 2/100\n",
      "644/644 [==============================] - 1s 969us/step - loss: 0.5605 - accuracy: 0.7249 - val_loss: 0.5507 - val_accuracy: 0.7374\n",
      "Epoch 3/100\n",
      "644/644 [==============================] - 1s 950us/step - loss: 0.5551 - accuracy: 0.7283 - val_loss: 0.5491 - val_accuracy: 0.7343\n",
      "Epoch 4/100\n",
      "644/644 [==============================] - 1s 1ms/step - loss: 0.5531 - accuracy: 0.7273 - val_loss: 0.5479 - val_accuracy: 0.7353\n",
      "Epoch 5/100\n",
      "644/644 [==============================] - 1s 984us/step - loss: 0.5519 - accuracy: 0.7289 - val_loss: 0.5495 - val_accuracy: 0.7370\n",
      "Epoch 6/100\n",
      "644/644 [==============================] - 1s 959us/step - loss: 0.5503 - accuracy: 0.7281 - val_loss: 0.5469 - val_accuracy: 0.7370\n",
      "Epoch 7/100\n",
      "644/644 [==============================] - 1s 963us/step - loss: 0.5500 - accuracy: 0.7294 - val_loss: 0.5483 - val_accuracy: 0.7312\n",
      "Epoch 8/100\n",
      "644/644 [==============================] - 1s 983us/step - loss: 0.5499 - accuracy: 0.7290 - val_loss: 0.5471 - val_accuracy: 0.7339\n",
      "Epoch 9/100\n",
      "644/644 [==============================] - 1s 968us/step - loss: 0.5484 - accuracy: 0.7307 - val_loss: 0.5472 - val_accuracy: 0.7357\n",
      "Epoch 10/100\n",
      "644/644 [==============================] - 1s 1ms/step - loss: 0.5481 - accuracy: 0.7313 - val_loss: 0.5474 - val_accuracy: 0.7345\n",
      "Epoch 11/100\n",
      "644/644 [==============================] - 1s 1ms/step - loss: 0.5475 - accuracy: 0.7307 - val_loss: 0.5447 - val_accuracy: 0.7376\n",
      "Epoch 12/100\n",
      "644/644 [==============================] - 1s 960us/step - loss: 0.5468 - accuracy: 0.7305 - val_loss: 0.5479 - val_accuracy: 0.7355\n",
      "Epoch 13/100\n",
      "644/644 [==============================] - 1s 975us/step - loss: 0.5471 - accuracy: 0.7322 - val_loss: 0.5439 - val_accuracy: 0.7343\n",
      "Epoch 14/100\n",
      "644/644 [==============================] - 1s 996us/step - loss: 0.5455 - accuracy: 0.7321 - val_loss: 0.5437 - val_accuracy: 0.7384\n",
      "Epoch 15/100\n",
      "644/644 [==============================] - 1s 963us/step - loss: 0.5460 - accuracy: 0.7323 - val_loss: 0.5453 - val_accuracy: 0.7351\n",
      "Epoch 16/100\n",
      "644/644 [==============================] - 1s 1ms/step - loss: 0.5449 - accuracy: 0.7325 - val_loss: 0.5494 - val_accuracy: 0.7357\n",
      "Epoch 17/100\n",
      "644/644 [==============================] - 1s 968us/step - loss: 0.5455 - accuracy: 0.7332 - val_loss: 0.5442 - val_accuracy: 0.7357\n",
      "Epoch 18/100\n",
      "644/644 [==============================] - 1s 960us/step - loss: 0.5443 - accuracy: 0.7339 - val_loss: 0.5500 - val_accuracy: 0.7331\n",
      "Epoch 19/100\n",
      "644/644 [==============================] - 1s 957us/step - loss: 0.5452 - accuracy: 0.7333 - val_loss: 0.5436 - val_accuracy: 0.7359\n",
      "Epoch 20/100\n",
      "644/644 [==============================] - 1s 947us/step - loss: 0.5440 - accuracy: 0.7331 - val_loss: 0.5486 - val_accuracy: 0.7304\n",
      "Epoch 21/100\n",
      "644/644 [==============================] - 1s 967us/step - loss: 0.5445 - accuracy: 0.7332 - val_loss: 0.5451 - val_accuracy: 0.7351\n",
      "Epoch 22/100\n",
      "644/644 [==============================] - 1s 977us/step - loss: 0.5444 - accuracy: 0.7334 - val_loss: 0.5450 - val_accuracy: 0.7368\n",
      "Epoch 23/100\n",
      "644/644 [==============================] - 1s 953us/step - loss: 0.5435 - accuracy: 0.7340 - val_loss: 0.5448 - val_accuracy: 0.7349\n",
      "Epoch 24/100\n",
      "644/644 [==============================] - 1s 960us/step - loss: 0.5441 - accuracy: 0.7344 - val_loss: 0.5454 - val_accuracy: 0.7337\n",
      "Epoch 25/100\n",
      "644/644 [==============================] - 1s 953us/step - loss: 0.5431 - accuracy: 0.7328 - val_loss: 0.5454 - val_accuracy: 0.7343\n",
      "Epoch 26/100\n",
      "644/644 [==============================] - 1s 949us/step - loss: 0.5431 - accuracy: 0.7341 - val_loss: 0.5467 - val_accuracy: 0.7347\n",
      "Epoch 27/100\n",
      "644/644 [==============================] - 1s 945us/step - loss: 0.5431 - accuracy: 0.7348 - val_loss: 0.5445 - val_accuracy: 0.7343\n",
      "Epoch 28/100\n",
      "644/644 [==============================] - 1s 981us/step - loss: 0.5428 - accuracy: 0.7332 - val_loss: 0.5457 - val_accuracy: 0.7366\n",
      "Epoch 29/100\n",
      "644/644 [==============================] - 1s 959us/step - loss: 0.5424 - accuracy: 0.7351 - val_loss: 0.5457 - val_accuracy: 0.7331\n",
      "Epoch 30/100\n",
      "644/644 [==============================] - 1s 961us/step - loss: 0.5425 - accuracy: 0.7338 - val_loss: 0.5458 - val_accuracy: 0.7329\n",
      "Epoch 31/100\n",
      "644/644 [==============================] - 1s 951us/step - loss: 0.5420 - accuracy: 0.7350 - val_loss: 0.5474 - val_accuracy: 0.7357\n",
      "Epoch 32/100\n",
      "644/644 [==============================] - 1s 956us/step - loss: 0.5414 - accuracy: 0.7354 - val_loss: 0.5451 - val_accuracy: 0.7378\n",
      "Epoch 33/100\n",
      "644/644 [==============================] - 1s 977us/step - loss: 0.5422 - accuracy: 0.7354 - val_loss: 0.5448 - val_accuracy: 0.7364\n",
      "Epoch 34/100\n",
      "644/644 [==============================] - 1s 997us/step - loss: 0.5414 - accuracy: 0.7357 - val_loss: 0.5484 - val_accuracy: 0.7347\n",
      "Epoch 35/100\n",
      "644/644 [==============================] - 1s 970us/step - loss: 0.5410 - accuracy: 0.7366 - val_loss: 0.5473 - val_accuracy: 0.7308\n",
      "Epoch 36/100\n",
      "644/644 [==============================] - 1s 966us/step - loss: 0.5409 - accuracy: 0.7361 - val_loss: 0.5492 - val_accuracy: 0.7357\n",
      "Epoch 37/100\n",
      "644/644 [==============================] - 1s 965us/step - loss: 0.5411 - accuracy: 0.7339 - val_loss: 0.5447 - val_accuracy: 0.7364\n",
      "Epoch 38/100\n",
      "644/644 [==============================] - 1s 964us/step - loss: 0.5407 - accuracy: 0.7367 - val_loss: 0.5454 - val_accuracy: 0.7362\n",
      "Epoch 39/100\n",
      "644/644 [==============================] - 1s 993us/step - loss: 0.5407 - accuracy: 0.7354 - val_loss: 0.5448 - val_accuracy: 0.7370\n",
      "Epoch 40/100\n",
      "644/644 [==============================] - 1s 957us/step - loss: 0.5404 - accuracy: 0.7362 - val_loss: 0.5456 - val_accuracy: 0.7351\n",
      "Epoch 41/100\n",
      "644/644 [==============================] - 1s 969us/step - loss: 0.5403 - accuracy: 0.7368 - val_loss: 0.5460 - val_accuracy: 0.7362\n",
      "Epoch 42/100\n",
      "644/644 [==============================] - 1s 955us/step - loss: 0.5401 - accuracy: 0.7363 - val_loss: 0.5487 - val_accuracy: 0.7349\n",
      "Epoch 43/100\n",
      "644/644 [==============================] - 1s 970us/step - loss: 0.5407 - accuracy: 0.7363 - val_loss: 0.5486 - val_accuracy: 0.7362\n",
      "Epoch 44/100\n",
      "644/644 [==============================] - 1s 960us/step - loss: 0.5398 - accuracy: 0.7365 - val_loss: 0.5465 - val_accuracy: 0.7345\n",
      "Epoch 45/100\n",
      "644/644 [==============================] - 1s 989us/step - loss: 0.5399 - accuracy: 0.7365 - val_loss: 0.5459 - val_accuracy: 0.7359\n",
      "Epoch 46/100\n",
      "644/644 [==============================] - 1s 950us/step - loss: 0.5399 - accuracy: 0.7356 - val_loss: 0.5447 - val_accuracy: 0.7357\n",
      "Epoch 47/100\n",
      "644/644 [==============================] - 1s 945us/step - loss: 0.5397 - accuracy: 0.7361 - val_loss: 0.5454 - val_accuracy: 0.7376\n",
      "Epoch 48/100\n",
      "644/644 [==============================] - 1s 955us/step - loss: 0.5394 - accuracy: 0.7369 - val_loss: 0.5473 - val_accuracy: 0.7370\n",
      "Epoch 49/100\n",
      "644/644 [==============================] - 1s 952us/step - loss: 0.5390 - accuracy: 0.7352 - val_loss: 0.5480 - val_accuracy: 0.7361\n",
      "Epoch 50/100\n",
      "644/644 [==============================] - 1s 952us/step - loss: 0.5389 - accuracy: 0.7363 - val_loss: 0.5495 - val_accuracy: 0.7370\n",
      "Epoch 51/100\n",
      "644/644 [==============================] - 1s 951us/step - loss: 0.5388 - accuracy: 0.7362 - val_loss: 0.5466 - val_accuracy: 0.7328\n",
      "Epoch 52/100\n",
      "644/644 [==============================] - 1s 1ms/step - loss: 0.5388 - accuracy: 0.7364 - val_loss: 0.5459 - val_accuracy: 0.7351\n",
      "Epoch 53/100\n",
      "644/644 [==============================] - 1s 978us/step - loss: 0.5390 - accuracy: 0.7361 - val_loss: 0.5496 - val_accuracy: 0.7351\n",
      "Epoch 54/100\n",
      "644/644 [==============================] - 1s 962us/step - loss: 0.5388 - accuracy: 0.7371 - val_loss: 0.5480 - val_accuracy: 0.7345\n",
      "Epoch 55/100\n",
      "644/644 [==============================] - 1s 951us/step - loss: 0.5383 - accuracy: 0.7366 - val_loss: 0.5456 - val_accuracy: 0.7364\n",
      "Epoch 56/100\n",
      "644/644 [==============================] - 1s 949us/step - loss: 0.5384 - accuracy: 0.7374 - val_loss: 0.5474 - val_accuracy: 0.7362\n",
      "Epoch 57/100\n",
      "644/644 [==============================] - 1s 959us/step - loss: 0.5386 - accuracy: 0.7378 - val_loss: 0.5447 - val_accuracy: 0.7345\n",
      "Epoch 58/100\n",
      "644/644 [==============================] - 1s 1ms/step - loss: 0.5380 - accuracy: 0.7375 - val_loss: 0.5472 - val_accuracy: 0.7347\n",
      "Epoch 59/100\n",
      "644/644 [==============================] - 1s 952us/step - loss: 0.5381 - accuracy: 0.7375 - val_loss: 0.5478 - val_accuracy: 0.7361\n",
      "Epoch 60/100\n",
      "644/644 [==============================] - 1s 978us/step - loss: 0.5383 - accuracy: 0.7373 - val_loss: 0.5470 - val_accuracy: 0.7359\n",
      "Epoch 61/100\n",
      "644/644 [==============================] - 1s 959us/step - loss: 0.5377 - accuracy: 0.7367 - val_loss: 0.5496 - val_accuracy: 0.7326\n",
      "Epoch 62/100\n",
      "644/644 [==============================] - 1s 960us/step - loss: 0.5375 - accuracy: 0.7375 - val_loss: 0.5465 - val_accuracy: 0.7364\n",
      "Epoch 63/100\n",
      "644/644 [==============================] - 1s 961us/step - loss: 0.5379 - accuracy: 0.7373 - val_loss: 0.5466 - val_accuracy: 0.7368\n",
      "Epoch 64/100\n",
      "644/644 [==============================] - 1s 1ms/step - loss: 0.5374 - accuracy: 0.7377 - val_loss: 0.5484 - val_accuracy: 0.7326\n",
      "Epoch 65/100\n",
      "644/644 [==============================] - 1s 948us/step - loss: 0.5376 - accuracy: 0.7374 - val_loss: 0.5492 - val_accuracy: 0.7362\n",
      "Epoch 66/100\n",
      "644/644 [==============================] - 1s 952us/step - loss: 0.5371 - accuracy: 0.7387 - val_loss: 0.5462 - val_accuracy: 0.7362\n",
      "Epoch 67/100\n",
      "644/644 [==============================] - 1s 986us/step - loss: 0.5374 - accuracy: 0.7385 - val_loss: 0.5474 - val_accuracy: 0.7368\n",
      "Epoch 68/100\n",
      "644/644 [==============================] - 1s 951us/step - loss: 0.5368 - accuracy: 0.7381 - val_loss: 0.5496 - val_accuracy: 0.7355\n",
      "Epoch 69/100\n",
      "644/644 [==============================] - 1s 956us/step - loss: 0.5371 - accuracy: 0.7378 - val_loss: 0.5483 - val_accuracy: 0.7357\n",
      "Epoch 70/100\n",
      "644/644 [==============================] - 1s 1ms/step - loss: 0.5364 - accuracy: 0.7392 - val_loss: 0.5525 - val_accuracy: 0.7376\n",
      "Epoch 71/100\n",
      "644/644 [==============================] - 1s 963us/step - loss: 0.5376 - accuracy: 0.7372 - val_loss: 0.5486 - val_accuracy: 0.7368\n",
      "Epoch 72/100\n",
      "644/644 [==============================] - 1s 956us/step - loss: 0.5371 - accuracy: 0.7376 - val_loss: 0.5472 - val_accuracy: 0.7386\n",
      "Epoch 73/100\n",
      "644/644 [==============================] - 1s 949us/step - loss: 0.5365 - accuracy: 0.7376 - val_loss: 0.5507 - val_accuracy: 0.7362\n",
      "Epoch 74/100\n",
      "644/644 [==============================] - 1s 948us/step - loss: 0.5367 - accuracy: 0.7389 - val_loss: 0.5489 - val_accuracy: 0.7366\n",
      "Epoch 75/100\n",
      "644/644 [==============================] - 1s 995us/step - loss: 0.5363 - accuracy: 0.7379 - val_loss: 0.5475 - val_accuracy: 0.7357\n",
      "Epoch 76/100\n",
      "644/644 [==============================] - 1s 951us/step - loss: 0.5364 - accuracy: 0.7380 - val_loss: 0.5499 - val_accuracy: 0.7355\n",
      "Epoch 77/100\n",
      "644/644 [==============================] - 1s 973us/step - loss: 0.5362 - accuracy: 0.7392 - val_loss: 0.5494 - val_accuracy: 0.7361\n",
      "Epoch 78/100\n",
      "644/644 [==============================] - 1s 938us/step - loss: 0.5359 - accuracy: 0.7381 - val_loss: 0.5504 - val_accuracy: 0.7364\n",
      "Epoch 79/100\n",
      "644/644 [==============================] - 1s 953us/step - loss: 0.5363 - accuracy: 0.7389 - val_loss: 0.5513 - val_accuracy: 0.7357\n",
      "Epoch 80/100\n",
      "644/644 [==============================] - 1s 969us/step - loss: 0.5365 - accuracy: 0.7383 - val_loss: 0.5495 - val_accuracy: 0.7376\n",
      "Epoch 81/100\n",
      "644/644 [==============================] - 1s 952us/step - loss: 0.5361 - accuracy: 0.7389 - val_loss: 0.5485 - val_accuracy: 0.7362\n",
      "Epoch 82/100\n",
      "644/644 [==============================] - 1s 956us/step - loss: 0.5365 - accuracy: 0.7379 - val_loss: 0.5500 - val_accuracy: 0.7357\n",
      "Epoch 83/100\n",
      "644/644 [==============================] - 1s 940us/step - loss: 0.5362 - accuracy: 0.7387 - val_loss: 0.5524 - val_accuracy: 0.7366\n",
      "Epoch 84/100\n",
      "644/644 [==============================] - 1s 967us/step - loss: 0.5359 - accuracy: 0.7390 - val_loss: 0.5534 - val_accuracy: 0.7351\n",
      "Epoch 85/100\n",
      "644/644 [==============================] - 1s 959us/step - loss: 0.5358 - accuracy: 0.7378 - val_loss: 0.5506 - val_accuracy: 0.7368\n",
      "Epoch 86/100\n",
      "644/644 [==============================] - 1s 1ms/step - loss: 0.5356 - accuracy: 0.7389 - val_loss: 0.5513 - val_accuracy: 0.7345\n",
      "Epoch 87/100\n",
      "644/644 [==============================] - 1s 959us/step - loss: 0.5355 - accuracy: 0.7394 - val_loss: 0.5532 - val_accuracy: 0.7372\n",
      "Epoch 88/100\n",
      "644/644 [==============================] - 1s 964us/step - loss: 0.5353 - accuracy: 0.7392 - val_loss: 0.5507 - val_accuracy: 0.7374\n",
      "Epoch 89/100\n",
      "644/644 [==============================] - 1s 962us/step - loss: 0.5356 - accuracy: 0.7391 - val_loss: 0.5483 - val_accuracy: 0.7378\n",
      "Epoch 90/100\n",
      "644/644 [==============================] - 1s 996us/step - loss: 0.5351 - accuracy: 0.7383 - val_loss: 0.5523 - val_accuracy: 0.7326\n",
      "Epoch 91/100\n",
      "644/644 [==============================] - 1s 952us/step - loss: 0.5348 - accuracy: 0.7401 - val_loss: 0.5506 - val_accuracy: 0.7380\n",
      "Epoch 92/100\n",
      "644/644 [==============================] - 1s 1ms/step - loss: 0.5349 - accuracy: 0.7387 - val_loss: 0.5519 - val_accuracy: 0.7361\n",
      "Epoch 93/100\n",
      "644/644 [==============================] - 1s 971us/step - loss: 0.5351 - accuracy: 0.7388 - val_loss: 0.5527 - val_accuracy: 0.7355\n",
      "Epoch 94/100\n",
      "644/644 [==============================] - 1s 960us/step - loss: 0.5356 - accuracy: 0.7376 - val_loss: 0.5535 - val_accuracy: 0.7364\n",
      "Epoch 95/100\n",
      "644/644 [==============================] - 1s 968us/step - loss: 0.5348 - accuracy: 0.7392 - val_loss: 0.5511 - val_accuracy: 0.7378\n",
      "Epoch 96/100\n",
      "644/644 [==============================] - 1s 960us/step - loss: 0.5353 - accuracy: 0.7384 - val_loss: 0.5520 - val_accuracy: 0.7361\n",
      "Epoch 97/100\n",
      "644/644 [==============================] - 1s 953us/step - loss: 0.5346 - accuracy: 0.7380 - val_loss: 0.5576 - val_accuracy: 0.7370\n",
      "Epoch 98/100\n",
      "644/644 [==============================] - 1s 1ms/step - loss: 0.5353 - accuracy: 0.7392 - val_loss: 0.5538 - val_accuracy: 0.7355\n",
      "Epoch 99/100\n",
      "644/644 [==============================] - 1s 958us/step - loss: 0.5350 - accuracy: 0.7393 - val_loss: 0.5526 - val_accuracy: 0.7372\n",
      "Epoch 100/100\n",
      "644/644 [==============================] - 1s 961us/step - loss: 0.5350 - accuracy: 0.7392 - val_loss: 0.5536 - val_accuracy: 0.7378\n"
     ]
    }
   ],
   "source": [
    "# Train the model\n",
    "fit_model = nn.fit(X_train_scaled, y_train, epochs=100, batch_size=32, validation_split=0.2)"
   ]
  },
  {
   "cell_type": "code",
   "execution_count": 35,
   "metadata": {},
   "outputs": [
    {
     "name": "stdout",
     "output_type": "stream",
     "text": [
      "268/268 - 0s - loss: 0.5704 - accuracy: 0.7258 - 200ms/epoch - 748us/step\n",
      "Loss: 0.5703510046005249, Accuracy: 0.7258309125900269\n"
     ]
    }
   ],
   "source": [
    "# Evaluate the model using the test data\n",
    "model_loss, model_accuracy = nn.evaluate(X_test_scaled,y_test,verbose=2)\n",
    "print(f\"Loss: {model_loss}, Accuracy: {model_accuracy}\")"
   ]
  },
  {
   "cell_type": "code",
   "execution_count": 36,
   "metadata": {},
   "outputs": [
    {
     "name": "stderr",
     "output_type": "stream",
     "text": [
      "c:\\Users\\jimco\\anaconda3\\envs\\ml_env\\lib\\site-packages\\keras\\src\\engine\\training.py:3103: UserWarning: You are saving your model as an HDF5 file via `model.save()`. This file format is considered legacy. We recommend using instead the native Keras format, e.g. `model.save('my_model.keras')`.\n",
      "  saving_api.save_model(\n"
     ]
    }
   ],
   "source": [
    "# Export our model to HDF5 file\n",
    "nn.save('AlphabetSoupCharity.h5')"
   ]
  }
 ],
 "metadata": {
  "kernelspec": {
   "display_name": "ml_env",
   "language": "python",
   "name": "python3"
  },
  "language_info": {
   "codemirror_mode": {
    "name": "ipython",
    "version": 3
   },
   "file_extension": ".py",
   "mimetype": "text/x-python",
   "name": "python",
   "nbconvert_exporter": "python",
   "pygments_lexer": "ipython3",
   "version": "3.10.16"
  }
 },
 "nbformat": 4,
 "nbformat_minor": 4
}
