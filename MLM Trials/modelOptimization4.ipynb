{
 "cells": [
  {
   "cell_type": "markdown",
   "metadata": {},
   "source": [
    "## Preprocessing"
   ]
  },
  {
   "cell_type": "code",
   "execution_count": 17,
   "metadata": {},
   "outputs": [
    {
     "data": {
      "application/vnd.microsoft.datawrangler.viewer.v0+json": {
       "columns": [
        {
         "name": "index",
         "rawType": "int64",
         "type": "integer"
        },
        {
         "name": "EIN",
         "rawType": "int64",
         "type": "integer"
        },
        {
         "name": "NAME",
         "rawType": "object",
         "type": "string"
        },
        {
         "name": "APPLICATION_TYPE",
         "rawType": "object",
         "type": "string"
        },
        {
         "name": "AFFILIATION",
         "rawType": "object",
         "type": "string"
        },
        {
         "name": "CLASSIFICATION",
         "rawType": "object",
         "type": "string"
        },
        {
         "name": "USE_CASE",
         "rawType": "object",
         "type": "string"
        },
        {
         "name": "ORGANIZATION",
         "rawType": "object",
         "type": "string"
        },
        {
         "name": "STATUS",
         "rawType": "int64",
         "type": "integer"
        },
        {
         "name": "INCOME_AMT",
         "rawType": "object",
         "type": "string"
        },
        {
         "name": "SPECIAL_CONSIDERATIONS",
         "rawType": "object",
         "type": "string"
        },
        {
         "name": "ASK_AMT",
         "rawType": "int64",
         "type": "integer"
        },
        {
         "name": "IS_SUCCESSFUL",
         "rawType": "int64",
         "type": "integer"
        }
       ],
       "conversionMethod": "pd.DataFrame",
       "ref": "9be19b98-cc20-4c20-9a5f-59025deda448",
       "rows": [
        [
         "0",
         "10520599",
         "BLUE KNIGHTS MOTORCYCLE CLUB",
         "T10",
         "Independent",
         "C1000",
         "ProductDev",
         "Association",
         "1",
         "0",
         "N",
         "5000",
         "1"
        ],
        [
         "1",
         "10531628",
         "AMERICAN CHESAPEAKE CLUB CHARITABLE TR",
         "T3",
         "Independent",
         "C2000",
         "Preservation",
         "Co-operative",
         "1",
         "1-9999",
         "N",
         "108590",
         "1"
        ],
        [
         "2",
         "10547893",
         "ST CLOUD PROFESSIONAL FIREFIGHTERS",
         "T5",
         "CompanySponsored",
         "C3000",
         "ProductDev",
         "Association",
         "1",
         "0",
         "N",
         "5000",
         "0"
        ],
        [
         "3",
         "10553066",
         "SOUTHSIDE ATHLETIC ASSOCIATION",
         "T3",
         "CompanySponsored",
         "C2000",
         "Preservation",
         "Trust",
         "1",
         "10000-24999",
         "N",
         "6692",
         "1"
        ],
        [
         "4",
         "10556103",
         "GENETIC RESEARCH INSTITUTE OF THE DESERT",
         "T3",
         "Independent",
         "C1000",
         "Heathcare",
         "Trust",
         "1",
         "100000-499999",
         "N",
         "142590",
         "1"
        ]
       ],
       "shape": {
        "columns": 12,
        "rows": 5
       }
      },
      "text/html": [
       "<div>\n",
       "<style scoped>\n",
       "    .dataframe tbody tr th:only-of-type {\n",
       "        vertical-align: middle;\n",
       "    }\n",
       "\n",
       "    .dataframe tbody tr th {\n",
       "        vertical-align: top;\n",
       "    }\n",
       "\n",
       "    .dataframe thead th {\n",
       "        text-align: right;\n",
       "    }\n",
       "</style>\n",
       "<table border=\"1\" class=\"dataframe\">\n",
       "  <thead>\n",
       "    <tr style=\"text-align: right;\">\n",
       "      <th></th>\n",
       "      <th>EIN</th>\n",
       "      <th>NAME</th>\n",
       "      <th>APPLICATION_TYPE</th>\n",
       "      <th>AFFILIATION</th>\n",
       "      <th>CLASSIFICATION</th>\n",
       "      <th>USE_CASE</th>\n",
       "      <th>ORGANIZATION</th>\n",
       "      <th>STATUS</th>\n",
       "      <th>INCOME_AMT</th>\n",
       "      <th>SPECIAL_CONSIDERATIONS</th>\n",
       "      <th>ASK_AMT</th>\n",
       "      <th>IS_SUCCESSFUL</th>\n",
       "    </tr>\n",
       "  </thead>\n",
       "  <tbody>\n",
       "    <tr>\n",
       "      <th>0</th>\n",
       "      <td>10520599</td>\n",
       "      <td>BLUE KNIGHTS MOTORCYCLE CLUB</td>\n",
       "      <td>T10</td>\n",
       "      <td>Independent</td>\n",
       "      <td>C1000</td>\n",
       "      <td>ProductDev</td>\n",
       "      <td>Association</td>\n",
       "      <td>1</td>\n",
       "      <td>0</td>\n",
       "      <td>N</td>\n",
       "      <td>5000</td>\n",
       "      <td>1</td>\n",
       "    </tr>\n",
       "    <tr>\n",
       "      <th>1</th>\n",
       "      <td>10531628</td>\n",
       "      <td>AMERICAN CHESAPEAKE CLUB CHARITABLE TR</td>\n",
       "      <td>T3</td>\n",
       "      <td>Independent</td>\n",
       "      <td>C2000</td>\n",
       "      <td>Preservation</td>\n",
       "      <td>Co-operative</td>\n",
       "      <td>1</td>\n",
       "      <td>1-9999</td>\n",
       "      <td>N</td>\n",
       "      <td>108590</td>\n",
       "      <td>1</td>\n",
       "    </tr>\n",
       "    <tr>\n",
       "      <th>2</th>\n",
       "      <td>10547893</td>\n",
       "      <td>ST CLOUD PROFESSIONAL FIREFIGHTERS</td>\n",
       "      <td>T5</td>\n",
       "      <td>CompanySponsored</td>\n",
       "      <td>C3000</td>\n",
       "      <td>ProductDev</td>\n",
       "      <td>Association</td>\n",
       "      <td>1</td>\n",
       "      <td>0</td>\n",
       "      <td>N</td>\n",
       "      <td>5000</td>\n",
       "      <td>0</td>\n",
       "    </tr>\n",
       "    <tr>\n",
       "      <th>3</th>\n",
       "      <td>10553066</td>\n",
       "      <td>SOUTHSIDE ATHLETIC ASSOCIATION</td>\n",
       "      <td>T3</td>\n",
       "      <td>CompanySponsored</td>\n",
       "      <td>C2000</td>\n",
       "      <td>Preservation</td>\n",
       "      <td>Trust</td>\n",
       "      <td>1</td>\n",
       "      <td>10000-24999</td>\n",
       "      <td>N</td>\n",
       "      <td>6692</td>\n",
       "      <td>1</td>\n",
       "    </tr>\n",
       "    <tr>\n",
       "      <th>4</th>\n",
       "      <td>10556103</td>\n",
       "      <td>GENETIC RESEARCH INSTITUTE OF THE DESERT</td>\n",
       "      <td>T3</td>\n",
       "      <td>Independent</td>\n",
       "      <td>C1000</td>\n",
       "      <td>Heathcare</td>\n",
       "      <td>Trust</td>\n",
       "      <td>1</td>\n",
       "      <td>100000-499999</td>\n",
       "      <td>N</td>\n",
       "      <td>142590</td>\n",
       "      <td>1</td>\n",
       "    </tr>\n",
       "  </tbody>\n",
       "</table>\n",
       "</div>"
      ],
      "text/plain": [
       "        EIN                                      NAME APPLICATION_TYPE  \\\n",
       "0  10520599              BLUE KNIGHTS MOTORCYCLE CLUB              T10   \n",
       "1  10531628    AMERICAN CHESAPEAKE CLUB CHARITABLE TR               T3   \n",
       "2  10547893        ST CLOUD PROFESSIONAL FIREFIGHTERS               T5   \n",
       "3  10553066            SOUTHSIDE ATHLETIC ASSOCIATION               T3   \n",
       "4  10556103  GENETIC RESEARCH INSTITUTE OF THE DESERT               T3   \n",
       "\n",
       "        AFFILIATION CLASSIFICATION      USE_CASE  ORGANIZATION  STATUS  \\\n",
       "0       Independent          C1000    ProductDev   Association       1   \n",
       "1       Independent          C2000  Preservation  Co-operative       1   \n",
       "2  CompanySponsored          C3000    ProductDev   Association       1   \n",
       "3  CompanySponsored          C2000  Preservation         Trust       1   \n",
       "4       Independent          C1000     Heathcare         Trust       1   \n",
       "\n",
       "      INCOME_AMT SPECIAL_CONSIDERATIONS  ASK_AMT  IS_SUCCESSFUL  \n",
       "0              0                      N     5000              1  \n",
       "1         1-9999                      N   108590              1  \n",
       "2              0                      N     5000              0  \n",
       "3    10000-24999                      N     6692              1  \n",
       "4  100000-499999                      N   142590              1  "
      ]
     },
     "execution_count": 17,
     "metadata": {},
     "output_type": "execute_result"
    }
   ],
   "source": [
    "# Import our dependencies\n",
    "from sklearn.model_selection import train_test_split\n",
    "from sklearn.preprocessing import StandardScaler\n",
    "import pandas as pd\n",
    "import tensorflow as tf\n",
    "from sklearn.inspection import permutation_importance\n",
    "import numpy as np\n",
    "\n",
    "# Import pandas and read the charity_data.csv from the provided cloud URL.\n",
    "\n",
    "application_df = pd.read_csv(\"https://static.bc-edx.com/data/dl-1-2/m21/lms/starter/charity_data.csv\")\n",
    "application_df.head()"
   ]
  },
  {
   "cell_type": "code",
   "execution_count": 18,
   "metadata": {},
   "outputs": [
    {
     "data": {
      "application/vnd.microsoft.datawrangler.viewer.v0+json": {
       "columns": [
        {
         "name": "index",
         "rawType": "int64",
         "type": "integer"
        },
        {
         "name": "APPLICATION_TYPE",
         "rawType": "object",
         "type": "string"
        },
        {
         "name": "AFFILIATION",
         "rawType": "object",
         "type": "string"
        },
        {
         "name": "CLASSIFICATION",
         "rawType": "object",
         "type": "string"
        },
        {
         "name": "USE_CASE",
         "rawType": "object",
         "type": "string"
        },
        {
         "name": "ORGANIZATION",
         "rawType": "object",
         "type": "string"
        },
        {
         "name": "STATUS",
         "rawType": "int64",
         "type": "integer"
        },
        {
         "name": "INCOME_AMT",
         "rawType": "object",
         "type": "string"
        },
        {
         "name": "SPECIAL_CONSIDERATIONS",
         "rawType": "object",
         "type": "string"
        },
        {
         "name": "ASK_AMT",
         "rawType": "int64",
         "type": "integer"
        },
        {
         "name": "IS_SUCCESSFUL",
         "rawType": "int64",
         "type": "integer"
        }
       ],
       "conversionMethod": "pd.DataFrame",
       "ref": "58b105f9-5437-4ee7-b400-de4b59981f72",
       "rows": [
        [
         "0",
         "T10",
         "Independent",
         "C1000",
         "ProductDev",
         "Association",
         "1",
         "0",
         "N",
         "5000",
         "1"
        ],
        [
         "1",
         "T3",
         "Independent",
         "C2000",
         "Preservation",
         "Co-operative",
         "1",
         "1-9999",
         "N",
         "108590",
         "1"
        ],
        [
         "2",
         "T5",
         "CompanySponsored",
         "C3000",
         "ProductDev",
         "Association",
         "1",
         "0",
         "N",
         "5000",
         "0"
        ],
        [
         "3",
         "T3",
         "CompanySponsored",
         "C2000",
         "Preservation",
         "Trust",
         "1",
         "10000-24999",
         "N",
         "6692",
         "1"
        ],
        [
         "4",
         "T3",
         "Independent",
         "C1000",
         "Heathcare",
         "Trust",
         "1",
         "100000-499999",
         "N",
         "142590",
         "1"
        ]
       ],
       "shape": {
        "columns": 10,
        "rows": 5
       }
      },
      "text/html": [
       "<div>\n",
       "<style scoped>\n",
       "    .dataframe tbody tr th:only-of-type {\n",
       "        vertical-align: middle;\n",
       "    }\n",
       "\n",
       "    .dataframe tbody tr th {\n",
       "        vertical-align: top;\n",
       "    }\n",
       "\n",
       "    .dataframe thead th {\n",
       "        text-align: right;\n",
       "    }\n",
       "</style>\n",
       "<table border=\"1\" class=\"dataframe\">\n",
       "  <thead>\n",
       "    <tr style=\"text-align: right;\">\n",
       "      <th></th>\n",
       "      <th>APPLICATION_TYPE</th>\n",
       "      <th>AFFILIATION</th>\n",
       "      <th>CLASSIFICATION</th>\n",
       "      <th>USE_CASE</th>\n",
       "      <th>ORGANIZATION</th>\n",
       "      <th>STATUS</th>\n",
       "      <th>INCOME_AMT</th>\n",
       "      <th>SPECIAL_CONSIDERATIONS</th>\n",
       "      <th>ASK_AMT</th>\n",
       "      <th>IS_SUCCESSFUL</th>\n",
       "    </tr>\n",
       "  </thead>\n",
       "  <tbody>\n",
       "    <tr>\n",
       "      <th>0</th>\n",
       "      <td>T10</td>\n",
       "      <td>Independent</td>\n",
       "      <td>C1000</td>\n",
       "      <td>ProductDev</td>\n",
       "      <td>Association</td>\n",
       "      <td>1</td>\n",
       "      <td>0</td>\n",
       "      <td>N</td>\n",
       "      <td>5000</td>\n",
       "      <td>1</td>\n",
       "    </tr>\n",
       "    <tr>\n",
       "      <th>1</th>\n",
       "      <td>T3</td>\n",
       "      <td>Independent</td>\n",
       "      <td>C2000</td>\n",
       "      <td>Preservation</td>\n",
       "      <td>Co-operative</td>\n",
       "      <td>1</td>\n",
       "      <td>1-9999</td>\n",
       "      <td>N</td>\n",
       "      <td>108590</td>\n",
       "      <td>1</td>\n",
       "    </tr>\n",
       "    <tr>\n",
       "      <th>2</th>\n",
       "      <td>T5</td>\n",
       "      <td>CompanySponsored</td>\n",
       "      <td>C3000</td>\n",
       "      <td>ProductDev</td>\n",
       "      <td>Association</td>\n",
       "      <td>1</td>\n",
       "      <td>0</td>\n",
       "      <td>N</td>\n",
       "      <td>5000</td>\n",
       "      <td>0</td>\n",
       "    </tr>\n",
       "    <tr>\n",
       "      <th>3</th>\n",
       "      <td>T3</td>\n",
       "      <td>CompanySponsored</td>\n",
       "      <td>C2000</td>\n",
       "      <td>Preservation</td>\n",
       "      <td>Trust</td>\n",
       "      <td>1</td>\n",
       "      <td>10000-24999</td>\n",
       "      <td>N</td>\n",
       "      <td>6692</td>\n",
       "      <td>1</td>\n",
       "    </tr>\n",
       "    <tr>\n",
       "      <th>4</th>\n",
       "      <td>T3</td>\n",
       "      <td>Independent</td>\n",
       "      <td>C1000</td>\n",
       "      <td>Heathcare</td>\n",
       "      <td>Trust</td>\n",
       "      <td>1</td>\n",
       "      <td>100000-499999</td>\n",
       "      <td>N</td>\n",
       "      <td>142590</td>\n",
       "      <td>1</td>\n",
       "    </tr>\n",
       "  </tbody>\n",
       "</table>\n",
       "</div>"
      ],
      "text/plain": [
       "  APPLICATION_TYPE       AFFILIATION CLASSIFICATION      USE_CASE  \\\n",
       "0              T10       Independent          C1000    ProductDev   \n",
       "1               T3       Independent          C2000  Preservation   \n",
       "2               T5  CompanySponsored          C3000    ProductDev   \n",
       "3               T3  CompanySponsored          C2000  Preservation   \n",
       "4               T3       Independent          C1000     Heathcare   \n",
       "\n",
       "   ORGANIZATION  STATUS     INCOME_AMT SPECIAL_CONSIDERATIONS  ASK_AMT  \\\n",
       "0   Association       1              0                      N     5000   \n",
       "1  Co-operative       1         1-9999                      N   108590   \n",
       "2   Association       1              0                      N     5000   \n",
       "3         Trust       1    10000-24999                      N     6692   \n",
       "4         Trust       1  100000-499999                      N   142590   \n",
       "\n",
       "   IS_SUCCESSFUL  \n",
       "0              1  \n",
       "1              1  \n",
       "2              0  \n",
       "3              1  \n",
       "4              1  "
      ]
     },
     "execution_count": 18,
     "metadata": {},
     "output_type": "execute_result"
    }
   ],
   "source": [
    "# Drop the non-beneficial ID columns, 'EIN' and 'NAME'.\n",
    "application_df = application_df.drop(columns=[\"EIN\", \"NAME\"])\n",
    "application_df.head()\n"
   ]
  },
  {
   "cell_type": "markdown",
   "metadata": {},
   "source": [
    "What variable(s) are the target(s) for your model?\n",
    "    - Is Successful\n",
    "What variable(s) are the feature(s) for your model?\n",
    "    - APPLICATION_TYPE, AFFILIATION, CLASSIFICATION, USE_CASE, ORGANIZATION, STATUS, INCOME_AMT, SPECIAL_CONSIDERATIONS, ASK_AMT        "
   ]
  },
  {
   "cell_type": "code",
   "execution_count": 19,
   "metadata": {},
   "outputs": [
    {
     "data": {
      "text/plain": [
       "APPLICATION_TYPE            17\n",
       "AFFILIATION                  6\n",
       "CLASSIFICATION              71\n",
       "USE_CASE                     5\n",
       "ORGANIZATION                 4\n",
       "STATUS                       2\n",
       "INCOME_AMT                   9\n",
       "SPECIAL_CONSIDERATIONS       2\n",
       "ASK_AMT                   8747\n",
       "IS_SUCCESSFUL                2\n",
       "dtype: int64"
      ]
     },
     "execution_count": 19,
     "metadata": {},
     "output_type": "execute_result"
    }
   ],
   "source": [
    "# Determine the number of unique values in each column.\n",
    "application_df.nunique()\n",
    "\n"
   ]
  },
  {
   "cell_type": "code",
   "execution_count": 20,
   "metadata": {},
   "outputs": [
    {
     "name": "stdout",
     "output_type": "stream",
     "text": [
      "APPLICATION_TYPE\n",
      "T3     27037\n",
      "T4      1542\n",
      "T6      1216\n",
      "T5      1173\n",
      "T19     1065\n",
      "T8       737\n",
      "T7       725\n",
      "T10      528\n",
      "T9       156\n",
      "T13       66\n",
      "T12       27\n",
      "T2        16\n",
      "T25        3\n",
      "T14        3\n",
      "T29        2\n",
      "T15        2\n",
      "T17        1\n",
      "Name: count, dtype: int64\n"
     ]
    }
   ],
   "source": [
    "# Look at APPLICATION_TYPE value counts to identify and replace with \"Other\"\n",
    "import matplotlib.pyplot as plt\n",
    "application_type_counts = application_df['APPLICATION_TYPE'].value_counts()\n",
    "print(application_type_counts)\n",
    "# Determine which values to replace"
   ]
  },
  {
   "cell_type": "markdown",
   "metadata": {},
   "source": [
    "The log scale was used to gain a better understanding of the distribution  of the less frequent application types and make a more informed decision about the cutoff value"
   ]
  },
  {
   "cell_type": "code",
   "execution_count": 21,
   "metadata": {},
   "outputs": [],
   "source": [
    "# # Step 2: Visualize the distribution\n",
    "# plt.figure(figsize=(10, 6))\n",
    "# application_type_counts.plot(kind='bar')\n",
    "# plt.title('Frequency Distribution of Application Types')\n",
    "# plt.xlabel('Application Type')\n",
    "# plt.ylabel('Frequency')\n",
    "# plt.yscale('log')  # Use log scale for better visualization of outliers\n",
    "# plt.show()\n"
   ]
  },
  {
   "cell_type": "code",
   "execution_count": 22,
   "metadata": {},
   "outputs": [
    {
     "data": {
      "text/plain": [
       "APPLICATION_TYPE\n",
       "T3       27037\n",
       "T4        1542\n",
       "Other     1529\n",
       "T6        1216\n",
       "T5        1173\n",
       "T19       1065\n",
       "T8         737\n",
       "Name: count, dtype: int64"
      ]
     },
     "execution_count": 22,
     "metadata": {},
     "output_type": "execute_result"
    }
   ],
   "source": [
    "# Choose a cutoff value and create a list of application types to be replaced\n",
    "# use the variable name `application_types_to_replace`\n",
    "# Choose a cutoff value (example: 500)\n",
    "cutoff_value = 737\n",
    "\n",
    "# Create a list of application types to be replaced\n",
    "application_types_to_replace = application_type_counts[application_type_counts < cutoff_value].index.tolist()\n",
    "\n",
    "# Replace in dataframe\n",
    "for app in application_types_to_replace:\n",
    "    application_df['APPLICATION_TYPE'] = application_df['APPLICATION_TYPE'].replace(app,\"Other\")\n",
    "\n",
    "# Check to make sure replacement was successful\n",
    "application_df['APPLICATION_TYPE'].value_counts()"
   ]
  },
  {
   "cell_type": "code",
   "execution_count": 23,
   "metadata": {},
   "outputs": [],
   "source": [
    "application_type_counts = application_df['APPLICATION_TYPE'].value_counts()\n",
    "\n",
    "# plt.figure(figsize=(10, 6))\n",
    "# application_type_counts .plot(kind='bar')\n",
    "# plt.title('Frequency Distribution of Application Types')\n",
    "# plt.xlabel('Application Type')\n",
    "# plt.ylabel('Frequency')\n",
    "# plt.yscale('log')  # Use log scale for better visualization of outliers\n",
    "# plt.show()"
   ]
  },
  {
   "cell_type": "code",
   "execution_count": 24,
   "metadata": {},
   "outputs": [
    {
     "name": "stdout",
     "output_type": "stream",
     "text": [
      "CLASSIFICATION\n",
      "C1000    17326\n",
      "C2000     6074\n",
      "C1200     4837\n",
      "C3000     1918\n",
      "C2100     1883\n",
      "         ...  \n",
      "C4120        1\n",
      "C8210        1\n",
      "C2561        1\n",
      "C4500        1\n",
      "C2150        1\n",
      "Name: count, Length: 71, dtype: int64\n"
     ]
    }
   ],
   "source": [
    "# Look at CLASSIFICATION value counts to identify and replace with \"Other\"\n",
    "classification_counts = application_df['CLASSIFICATION'].value_counts()\n",
    "print(classification_counts)"
   ]
  },
  {
   "cell_type": "code",
   "execution_count": 25,
   "metadata": {},
   "outputs": [
    {
     "name": "stdout",
     "output_type": "stream",
     "text": [
      "CLASSIFICATION\n",
      "C1000    17326\n",
      "C2000     6074\n",
      "C1200     4837\n",
      "C3000     1918\n",
      "C2100     1883\n",
      "C7000      777\n",
      "C1700      287\n",
      "C4000      194\n",
      "C5000      116\n",
      "C1270      114\n",
      "C2700      104\n",
      "C2800       95\n",
      "C7100       75\n",
      "C1300       58\n",
      "C1280       50\n",
      "C1230       36\n",
      "C1400       34\n",
      "C7200       32\n",
      "C2300       32\n",
      "C1240       30\n",
      "C8000       20\n",
      "C7120       18\n",
      "C1500       16\n",
      "C1800       15\n",
      "C6000       15\n",
      "C1250       14\n",
      "C8200       11\n",
      "C1238       10\n",
      "C1278       10\n",
      "C1235        9\n",
      "C1237        9\n",
      "C7210        7\n",
      "C2400        6\n",
      "C1720        6\n",
      "C4100        6\n",
      "C1257        5\n",
      "C1600        5\n",
      "C1260        3\n",
      "C2710        3\n",
      "C0           3\n",
      "C3200        2\n",
      "C1234        2\n",
      "C1246        2\n",
      "C1267        2\n",
      "C1256        2\n",
      "Name: count, dtype: int64\n"
     ]
    }
   ],
   "source": [
    "# You may find it helpful to look at CLASSIFICATION value counts >1\n",
    "print(classification_counts[classification_counts > 1])\n",
    "\n",
    "# # Step 2: Visualize the distribution\n",
    "# plt.figure(figsize=(10, 6))\n",
    "# classification_counts.plot(kind='bar')  \n",
    "# plt.title('Frequency Distribution of Classifications')\n",
    "# plt.xlabel('Classification')\n",
    "# plt.ylabel('Frequency')\n",
    "# plt.yscale('log')  # Use log scale for better visualization of outliers\n",
    "# plt.show()"
   ]
  },
  {
   "cell_type": "code",
   "execution_count": 26,
   "metadata": {},
   "outputs": [
    {
     "data": {
      "text/plain": [
       "CLASSIFICATION\n",
       "C1000    17326\n",
       "C2000     6074\n",
       "C1200     4837\n",
       "Other     2261\n",
       "C3000     1918\n",
       "C2100     1883\n",
       "Name: count, dtype: int64"
      ]
     },
     "execution_count": 26,
     "metadata": {},
     "output_type": "execute_result"
    }
   ],
   "source": [
    "# Choose a cutoff value and create a list of classifications to be replaced\n",
    "# use the variable name `classifications_to_replace`\n",
    "\n",
    "classification_cutoff_value = 800\n",
    "\n",
    "# Create a list of application types to be replaced\n",
    "classifications_to_replace = classification_counts[classification_counts < classification_cutoff_value ].index.tolist()\n",
    "\n",
    "\n",
    "for cls in classifications_to_replace:\n",
    "    application_df['CLASSIFICATION'] = application_df['CLASSIFICATION'].replace(cls,\"Other\")\n",
    "\n",
    "# Check to make sure replacement was successful\n",
    "application_df['CLASSIFICATION'].value_counts()"
   ]
  },
  {
   "cell_type": "code",
   "execution_count": 27,
   "metadata": {},
   "outputs": [
    {
     "name": "stdout",
     "output_type": "stream",
     "text": [
      "STATUS\n",
      "1    34294\n",
      "0        5\n",
      "Name: count, dtype: int64\n"
     ]
    }
   ],
   "source": [
    "status_counts = application_df['STATUS'].value_counts()\n",
    "print(status_counts)"
   ]
  },
  {
   "cell_type": "code",
   "execution_count": 28,
   "metadata": {},
   "outputs": [
    {
     "name": "stdout",
     "output_type": "stream",
     "text": [
      "  APPLICATION_TYPE  STATUS  ASK_AMT  IS_SUCCESSFUL  \\\n",
      "0            Other       1     5000              1   \n",
      "1               T3       1   108590              1   \n",
      "2               T5       1     5000              0   \n",
      "3               T3       1     6692              1   \n",
      "4               T3       1   142590              1   \n",
      "\n",
      "   AFFILIATION_CompanySponsored  AFFILIATION_Family/Parent  \\\n",
      "0                         False                      False   \n",
      "1                         False                      False   \n",
      "2                          True                      False   \n",
      "3                          True                      False   \n",
      "4                         False                      False   \n",
      "\n",
      "   AFFILIATION_Independent  AFFILIATION_National  AFFILIATION_Other  \\\n",
      "0                     True                 False              False   \n",
      "1                     True                 False              False   \n",
      "2                    False                 False              False   \n",
      "3                    False                 False              False   \n",
      "4                     True                 False              False   \n",
      "\n",
      "   AFFILIATION_Regional  ...  INCOME_AMT_1-9999  INCOME_AMT_10000-24999  \\\n",
      "0                 False  ...              False                   False   \n",
      "1                 False  ...               True                   False   \n",
      "2                 False  ...              False                   False   \n",
      "3                 False  ...              False                    True   \n",
      "4                 False  ...              False                   False   \n",
      "\n",
      "   INCOME_AMT_100000-499999  INCOME_AMT_10M-50M  INCOME_AMT_1M-5M  \\\n",
      "0                     False               False             False   \n",
      "1                     False               False             False   \n",
      "2                     False               False             False   \n",
      "3                     False               False             False   \n",
      "4                      True               False             False   \n",
      "\n",
      "   INCOME_AMT_25000-99999  INCOME_AMT_50M+  INCOME_AMT_5M-10M  \\\n",
      "0                   False            False              False   \n",
      "1                   False            False              False   \n",
      "2                   False            False              False   \n",
      "3                   False            False              False   \n",
      "4                   False            False              False   \n",
      "\n",
      "   SPECIAL_CONSIDERATIONS_N  SPECIAL_CONSIDERATIONS_Y  \n",
      "0                      True                     False  \n",
      "1                      True                     False  \n",
      "2                      True                     False  \n",
      "3                      True                     False  \n",
      "4                      True                     False  \n",
      "\n",
      "[5 rows x 36 columns]\n"
     ]
    }
   ],
   "source": [
    "# Convert categorical data to numeric with `pd.get_dummies`\n",
    "categorical_columns = [ 'AFFILIATION', 'CLASSIFICATION',  'USE_CASE', 'ORGANIZATION', 'INCOME_AMT', 'SPECIAL_CONSIDERATIONS']\n",
    "\n",
    "# Convert categorical data to numeric using pd.get_dummies\n",
    "application_df = pd.get_dummies(application_df, columns=categorical_columns)\n",
    "\n",
    "# Display the first few rows of the updated DataFrame\n",
    "print(application_df.head())"
   ]
  },
  {
   "cell_type": "code",
   "execution_count": 29,
   "metadata": {},
   "outputs": [],
   "source": [
    "columns_to_drop = [\"APPLICATION_TYPE\",\n",
    "    \"AFFILIATION_Other\",\n",
    "    \"STATUS\",    \n",
    "    \"SPECIAL_CONSIDERATIONS_Y\",\n",
    "    \"SPECIAL_CONSIDERATIONS_N\",\n",
    "    \n",
    "]\n",
    "application_df = application_df.drop(columns=columns_to_drop)"
   ]
  },
  {
   "cell_type": "code",
   "execution_count": 30,
   "metadata": {},
   "outputs": [],
   "source": [
    "# Split the data into features and target\n",
    "y = application_df['IS_SUCCESSFUL'].values\n",
    "X = application_df.drop(columns='IS_SUCCESSFUL')\n",
    "\n",
    "# Capture feature names\n",
    "feature_names = X.columns\n",
    "\n",
    "# Convert to numpy array for scaling\n",
    "X = X.values\n",
    "\n",
    "# Split the preprocessed data into a training and testing dataset\n",
    "X_train, X_test, y_train, y_test = train_test_split(X, y, random_state=42)\n",
    "\n"
   ]
  },
  {
   "cell_type": "code",
   "execution_count": 31,
   "metadata": {},
   "outputs": [],
   "source": [
    "# Create a StandardScaler instances\n",
    "scaler = StandardScaler()\n",
    "\n",
    "# Fit the StandardScaler\n",
    "X_scaler = scaler.fit(X_train)\n",
    "\n",
    "# Scale the data\n",
    "X_train_scaled = X_scaler.transform(X_train)\n",
    "X_test_scaled = X_scaler.transform(X_test)"
   ]
  },
  {
   "cell_type": "markdown",
   "metadata": {},
   "source": [
    "## Compile, Train and Evaluate the Model"
   ]
  },
  {
   "cell_type": "code",
   "execution_count": 32,
   "metadata": {},
   "outputs": [],
   "source": [
    "# Function to create the model\n",
    "def create_model(input_dim):\n",
    "    model = tf.keras.models.Sequential()\n",
    "    model.add(tf.keras.layers.Dense(units=80, activation='relu', input_dim=input_dim))\n",
    "    model.add(tf.keras.layers.Dense(units=30, activation='relu'))\n",
    "    # model.add(tf.keras.layers.Dense(units=15, activation='relu'))  # Third hidden layer\n",
    "    model.add(tf.keras.layers.Dense(units=1, activation='sigmoid'))\n",
    "    model.compile(optimizer='adam', loss='binary_crossentropy', metrics=['accuracy'])\n",
    "    return model"
   ]
  },
  {
   "cell_type": "code",
   "execution_count": 33,
   "metadata": {},
   "outputs": [],
   "source": [
    "# Function to train the model\n",
    "def train_model(model, X_train, y_train, X_test, y_test, epochs=100):\n",
    "    # Train the model\n",
    "    fit_model = model.fit(X_train, y_train, epochs=epochs, batch_size=32, validation_split=0.2)\n",
    "    \n",
    "    # Evaluate the model using the test data\n",
    "    model_loss, model_accuracy = model.evaluate(X_test, y_test, verbose=2)\n",
    "    print(f\"Loss: {model_loss}, Accuracy: {model_accuracy}\")\n",
    "    \n",
    "    return model, fit_model"
   ]
  },
  {
   "cell_type": "code",
   "execution_count": 34,
   "metadata": {},
   "outputs": [
    {
     "name": "stdout",
     "output_type": "stream",
     "text": [
      "WARNING:tensorflow:From c:\\Users\\jimco\\anaconda3\\envs\\ml_env\\lib\\site-packages\\keras\\src\\backend.py:873: The name tf.get_default_graph is deprecated. Please use tf.compat.v1.get_default_graph instead.\n",
      "\n",
      "WARNING:tensorflow:From c:\\Users\\jimco\\anaconda3\\envs\\ml_env\\lib\\site-packages\\keras\\src\\optimizers\\__init__.py:309: The name tf.train.Optimizer is deprecated. Please use tf.compat.v1.train.Optimizer instead.\n",
      "\n",
      "Epoch 1/100\n",
      "WARNING:tensorflow:From c:\\Users\\jimco\\anaconda3\\envs\\ml_env\\lib\\site-packages\\keras\\src\\utils\\tf_utils.py:492: The name tf.ragged.RaggedTensorValue is deprecated. Please use tf.compat.v1.ragged.RaggedTensorValue instead.\n",
      "\n",
      "WARNING:tensorflow:From c:\\Users\\jimco\\anaconda3\\envs\\ml_env\\lib\\site-packages\\keras\\src\\engine\\base_layer_utils.py:384: The name tf.executing_eagerly_outside_functions is deprecated. Please use tf.compat.v1.executing_eagerly_outside_functions instead.\n",
      "\n",
      "644/644 [==============================] - 1s 1ms/step - loss: 0.5994 - accuracy: 0.6918 - val_loss: 0.5757 - val_accuracy: 0.7116\n",
      "Epoch 2/100\n",
      "644/644 [==============================] - 1s 984us/step - loss: 0.5830 - accuracy: 0.7034 - val_loss: 0.5745 - val_accuracy: 0.7155\n",
      "Epoch 3/100\n",
      "644/644 [==============================] - 1s 965us/step - loss: 0.5808 - accuracy: 0.7063 - val_loss: 0.5724 - val_accuracy: 0.7139\n",
      "Epoch 4/100\n",
      "644/644 [==============================] - 1s 958us/step - loss: 0.5796 - accuracy: 0.7074 - val_loss: 0.5732 - val_accuracy: 0.7104\n",
      "Epoch 5/100\n",
      "644/644 [==============================] - 1s 972us/step - loss: 0.5778 - accuracy: 0.7081 - val_loss: 0.5721 - val_accuracy: 0.7063\n",
      "Epoch 6/100\n",
      "644/644 [==============================] - 1s 949us/step - loss: 0.5774 - accuracy: 0.7082 - val_loss: 0.5740 - val_accuracy: 0.7151\n",
      "Epoch 7/100\n",
      "644/644 [==============================] - 1s 968us/step - loss: 0.5766 - accuracy: 0.7093 - val_loss: 0.5726 - val_accuracy: 0.7139\n",
      "Epoch 8/100\n",
      "644/644 [==============================] - 1s 963us/step - loss: 0.5766 - accuracy: 0.7096 - val_loss: 0.5727 - val_accuracy: 0.7110\n",
      "Epoch 9/100\n",
      "644/644 [==============================] - 1s 955us/step - loss: 0.5759 - accuracy: 0.7076 - val_loss: 0.5714 - val_accuracy: 0.7139\n",
      "Epoch 10/100\n",
      "644/644 [==============================] - 1s 964us/step - loss: 0.5759 - accuracy: 0.7110 - val_loss: 0.5745 - val_accuracy: 0.7127\n",
      "Epoch 11/100\n",
      "644/644 [==============================] - 1s 1ms/step - loss: 0.5753 - accuracy: 0.7100 - val_loss: 0.5722 - val_accuracy: 0.7164\n",
      "Epoch 12/100\n",
      "644/644 [==============================] - 1s 959us/step - loss: 0.5753 - accuracy: 0.7094 - val_loss: 0.5762 - val_accuracy: 0.7125\n",
      "Epoch 13/100\n",
      "644/644 [==============================] - 1s 952us/step - loss: 0.5750 - accuracy: 0.7103 - val_loss: 0.5713 - val_accuracy: 0.7170\n",
      "Epoch 14/100\n",
      "644/644 [==============================] - 1s 954us/step - loss: 0.5747 - accuracy: 0.7098 - val_loss: 0.5733 - val_accuracy: 0.7135\n",
      "Epoch 15/100\n",
      "644/644 [==============================] - 1s 956us/step - loss: 0.5750 - accuracy: 0.7102 - val_loss: 0.5738 - val_accuracy: 0.7102\n",
      "Epoch 16/100\n",
      "644/644 [==============================] - 1s 948us/step - loss: 0.5743 - accuracy: 0.7108 - val_loss: 0.5710 - val_accuracy: 0.7149\n",
      "Epoch 17/100\n",
      "644/644 [==============================] - 1s 949us/step - loss: 0.5739 - accuracy: 0.7101 - val_loss: 0.5714 - val_accuracy: 0.7155\n",
      "Epoch 18/100\n",
      "644/644 [==============================] - 1s 951us/step - loss: 0.5739 - accuracy: 0.7103 - val_loss: 0.5743 - val_accuracy: 0.7104\n",
      "Epoch 19/100\n",
      "644/644 [==============================] - 1s 1ms/step - loss: 0.5732 - accuracy: 0.7115 - val_loss: 0.5745 - val_accuracy: 0.7106\n",
      "Epoch 20/100\n",
      "644/644 [==============================] - 1s 1ms/step - loss: 0.5735 - accuracy: 0.7110 - val_loss: 0.5738 - val_accuracy: 0.7098\n",
      "Epoch 21/100\n",
      "644/644 [==============================] - 1s 947us/step - loss: 0.5734 - accuracy: 0.7109 - val_loss: 0.5737 - val_accuracy: 0.7118\n",
      "Epoch 22/100\n",
      "644/644 [==============================] - 1s 942us/step - loss: 0.5728 - accuracy: 0.7119 - val_loss: 0.5751 - val_accuracy: 0.7160\n",
      "Epoch 23/100\n",
      "644/644 [==============================] - 1s 922us/step - loss: 0.5732 - accuracy: 0.7102 - val_loss: 0.5727 - val_accuracy: 0.7172\n",
      "Epoch 24/100\n",
      "644/644 [==============================] - 1s 941us/step - loss: 0.5725 - accuracy: 0.7108 - val_loss: 0.5754 - val_accuracy: 0.7156\n",
      "Epoch 25/100\n",
      "644/644 [==============================] - 1s 949us/step - loss: 0.5725 - accuracy: 0.7110 - val_loss: 0.5751 - val_accuracy: 0.7143\n",
      "Epoch 26/100\n",
      "644/644 [==============================] - 1s 922us/step - loss: 0.5723 - accuracy: 0.7129 - val_loss: 0.5736 - val_accuracy: 0.7145\n",
      "Epoch 27/100\n",
      "644/644 [==============================] - 1s 989us/step - loss: 0.5727 - accuracy: 0.7116 - val_loss: 0.5729 - val_accuracy: 0.7153\n",
      "Epoch 28/100\n",
      "644/644 [==============================] - 1s 937us/step - loss: 0.5720 - accuracy: 0.7108 - val_loss: 0.5739 - val_accuracy: 0.7149\n",
      "Epoch 29/100\n",
      "644/644 [==============================] - 1s 968us/step - loss: 0.5722 - accuracy: 0.7119 - val_loss: 0.5744 - val_accuracy: 0.7137\n",
      "Epoch 30/100\n",
      "644/644 [==============================] - 1s 922us/step - loss: 0.5723 - accuracy: 0.7096 - val_loss: 0.5733 - val_accuracy: 0.7162\n",
      "Epoch 31/100\n",
      "644/644 [==============================] - 1s 953us/step - loss: 0.5719 - accuracy: 0.7121 - val_loss: 0.5714 - val_accuracy: 0.7139\n",
      "Epoch 32/100\n",
      "644/644 [==============================] - 1s 956us/step - loss: 0.5717 - accuracy: 0.7133 - val_loss: 0.5740 - val_accuracy: 0.7151\n",
      "Epoch 33/100\n",
      "644/644 [==============================] - 1s 996us/step - loss: 0.5719 - accuracy: 0.7133 - val_loss: 0.5732 - val_accuracy: 0.7156\n",
      "Epoch 34/100\n",
      "644/644 [==============================] - 1s 946us/step - loss: 0.5715 - accuracy: 0.7113 - val_loss: 0.5720 - val_accuracy: 0.7141\n",
      "Epoch 35/100\n",
      "644/644 [==============================] - 1s 984us/step - loss: 0.5720 - accuracy: 0.7129 - val_loss: 0.5735 - val_accuracy: 0.7151\n",
      "Epoch 36/100\n",
      "644/644 [==============================] - 1s 954us/step - loss: 0.5712 - accuracy: 0.7113 - val_loss: 0.5748 - val_accuracy: 0.7135\n",
      "Epoch 37/100\n",
      "644/644 [==============================] - 1s 931us/step - loss: 0.5709 - accuracy: 0.7128 - val_loss: 0.5745 - val_accuracy: 0.7120\n",
      "Epoch 38/100\n",
      "644/644 [==============================] - 1s 928us/step - loss: 0.5712 - accuracy: 0.7119 - val_loss: 0.5729 - val_accuracy: 0.7162\n",
      "Epoch 39/100\n",
      "644/644 [==============================] - 1s 924us/step - loss: 0.5707 - accuracy: 0.7107 - val_loss: 0.5731 - val_accuracy: 0.7129\n",
      "Epoch 40/100\n",
      "644/644 [==============================] - 1s 977us/step - loss: 0.5713 - accuracy: 0.7109 - val_loss: 0.5743 - val_accuracy: 0.7153\n",
      "Epoch 41/100\n",
      "644/644 [==============================] - 1s 927us/step - loss: 0.5709 - accuracy: 0.7121 - val_loss: 0.5740 - val_accuracy: 0.7145\n",
      "Epoch 42/100\n",
      "644/644 [==============================] - 1s 1ms/step - loss: 0.5706 - accuracy: 0.7134 - val_loss: 0.5744 - val_accuracy: 0.7145\n",
      "Epoch 43/100\n",
      "644/644 [==============================] - 1s 944us/step - loss: 0.5703 - accuracy: 0.7114 - val_loss: 0.5727 - val_accuracy: 0.7158\n",
      "Epoch 44/100\n",
      "644/644 [==============================] - 1s 930us/step - loss: 0.5708 - accuracy: 0.7125 - val_loss: 0.5730 - val_accuracy: 0.7135\n",
      "Epoch 45/100\n",
      "644/644 [==============================] - 1s 966us/step - loss: 0.5704 - accuracy: 0.7116 - val_loss: 0.5737 - val_accuracy: 0.7149\n",
      "Epoch 46/100\n",
      "644/644 [==============================] - 1s 1ms/step - loss: 0.5707 - accuracy: 0.7123 - val_loss: 0.5735 - val_accuracy: 0.7149\n",
      "Epoch 47/100\n",
      "644/644 [==============================] - 1s 929us/step - loss: 0.5703 - accuracy: 0.7148 - val_loss: 0.5752 - val_accuracy: 0.7139\n",
      "Epoch 48/100\n",
      "644/644 [==============================] - 1s 962us/step - loss: 0.5702 - accuracy: 0.7120 - val_loss: 0.5750 - val_accuracy: 0.7147\n",
      "Epoch 49/100\n",
      "644/644 [==============================] - 1s 922us/step - loss: 0.5704 - accuracy: 0.7134 - val_loss: 0.5736 - val_accuracy: 0.7073\n",
      "Epoch 50/100\n",
      "644/644 [==============================] - 1s 978us/step - loss: 0.5703 - accuracy: 0.7118 - val_loss: 0.5737 - val_accuracy: 0.7149\n",
      "Epoch 51/100\n",
      "644/644 [==============================] - 1s 942us/step - loss: 0.5700 - accuracy: 0.7116 - val_loss: 0.5745 - val_accuracy: 0.7168\n",
      "Epoch 52/100\n",
      "644/644 [==============================] - 1s 953us/step - loss: 0.5697 - accuracy: 0.7150 - val_loss: 0.5736 - val_accuracy: 0.7149\n",
      "Epoch 53/100\n",
      "644/644 [==============================] - 1s 969us/step - loss: 0.5700 - accuracy: 0.7139 - val_loss: 0.5762 - val_accuracy: 0.7141\n",
      "Epoch 54/100\n",
      "644/644 [==============================] - 1s 932us/step - loss: 0.5699 - accuracy: 0.7130 - val_loss: 0.5734 - val_accuracy: 0.7135\n",
      "Epoch 55/100\n",
      "644/644 [==============================] - 1s 940us/step - loss: 0.5699 - accuracy: 0.7133 - val_loss: 0.5729 - val_accuracy: 0.7139\n",
      "Epoch 56/100\n",
      "644/644 [==============================] - 1s 925us/step - loss: 0.5701 - accuracy: 0.7125 - val_loss: 0.5758 - val_accuracy: 0.7139\n",
      "Epoch 57/100\n",
      "644/644 [==============================] - 1s 965us/step - loss: 0.5693 - accuracy: 0.7131 - val_loss: 0.5738 - val_accuracy: 0.7104\n",
      "Epoch 58/100\n",
      "644/644 [==============================] - 1s 1ms/step - loss: 0.5700 - accuracy: 0.7130 - val_loss: 0.5755 - val_accuracy: 0.7151\n",
      "Epoch 59/100\n",
      "644/644 [==============================] - 1s 997us/step - loss: 0.5694 - accuracy: 0.7134 - val_loss: 0.5734 - val_accuracy: 0.7156\n",
      "Epoch 60/100\n",
      "644/644 [==============================] - 1s 923us/step - loss: 0.5696 - accuracy: 0.7113 - val_loss: 0.5750 - val_accuracy: 0.7151\n",
      "Epoch 61/100\n",
      "644/644 [==============================] - 1s 947us/step - loss: 0.5692 - accuracy: 0.7132 - val_loss: 0.5763 - val_accuracy: 0.7143\n",
      "Epoch 62/100\n",
      "644/644 [==============================] - 1s 949us/step - loss: 0.5696 - accuracy: 0.7135 - val_loss: 0.5763 - val_accuracy: 0.7131\n",
      "Epoch 63/100\n",
      "644/644 [==============================] - 1s 926us/step - loss: 0.5695 - accuracy: 0.7126 - val_loss: 0.5737 - val_accuracy: 0.7155\n",
      "Epoch 64/100\n",
      "644/644 [==============================] - 1s 995us/step - loss: 0.5692 - accuracy: 0.7132 - val_loss: 0.5729 - val_accuracy: 0.7133\n",
      "Epoch 65/100\n",
      "644/644 [==============================] - 1s 946us/step - loss: 0.5695 - accuracy: 0.7132 - val_loss: 0.5750 - val_accuracy: 0.7145\n",
      "Epoch 66/100\n",
      "644/644 [==============================] - 1s 926us/step - loss: 0.5689 - accuracy: 0.7129 - val_loss: 0.5728 - val_accuracy: 0.7160\n",
      "Epoch 67/100\n",
      "644/644 [==============================] - 1s 920us/step - loss: 0.5687 - accuracy: 0.7140 - val_loss: 0.5755 - val_accuracy: 0.7141\n",
      "Epoch 68/100\n",
      "644/644 [==============================] - 1s 935us/step - loss: 0.5691 - accuracy: 0.7122 - val_loss: 0.5747 - val_accuracy: 0.7145\n",
      "Epoch 69/100\n",
      "644/644 [==============================] - 1s 929us/step - loss: 0.5687 - accuracy: 0.7130 - val_loss: 0.5755 - val_accuracy: 0.7141\n",
      "Epoch 70/100\n",
      "644/644 [==============================] - 1s 1ms/step - loss: 0.5685 - accuracy: 0.7129 - val_loss: 0.5760 - val_accuracy: 0.7153\n",
      "Epoch 71/100\n",
      "644/644 [==============================] - 1s 964us/step - loss: 0.5690 - accuracy: 0.7135 - val_loss: 0.5763 - val_accuracy: 0.7151\n",
      "Epoch 72/100\n",
      "644/644 [==============================] - 1s 975us/step - loss: 0.5688 - accuracy: 0.7123 - val_loss: 0.5774 - val_accuracy: 0.7153\n",
      "Epoch 73/100\n",
      "644/644 [==============================] - 1s 937us/step - loss: 0.5686 - accuracy: 0.7131 - val_loss: 0.5749 - val_accuracy: 0.7133\n",
      "Epoch 74/100\n",
      "644/644 [==============================] - 1s 916us/step - loss: 0.5685 - accuracy: 0.7125 - val_loss: 0.5757 - val_accuracy: 0.7127\n",
      "Epoch 75/100\n",
      "644/644 [==============================] - 1s 962us/step - loss: 0.5687 - accuracy: 0.7136 - val_loss: 0.5740 - val_accuracy: 0.7151\n",
      "Epoch 76/100\n",
      "644/644 [==============================] - 1s 921us/step - loss: 0.5685 - accuracy: 0.7131 - val_loss: 0.5770 - val_accuracy: 0.7139\n",
      "Epoch 77/100\n",
      "644/644 [==============================] - 1s 924us/step - loss: 0.5689 - accuracy: 0.7131 - val_loss: 0.5746 - val_accuracy: 0.7147\n",
      "Epoch 78/100\n",
      "644/644 [==============================] - 1s 1ms/step - loss: 0.5685 - accuracy: 0.7145 - val_loss: 0.5780 - val_accuracy: 0.7139\n",
      "Epoch 79/100\n",
      "644/644 [==============================] - 1s 922us/step - loss: 0.5682 - accuracy: 0.7147 - val_loss: 0.5772 - val_accuracy: 0.7153\n",
      "Epoch 80/100\n",
      "644/644 [==============================] - 1s 921us/step - loss: 0.5685 - accuracy: 0.7131 - val_loss: 0.5771 - val_accuracy: 0.7057\n",
      "Epoch 81/100\n",
      "644/644 [==============================] - 1s 961us/step - loss: 0.5685 - accuracy: 0.7136 - val_loss: 0.5758 - val_accuracy: 0.7147\n",
      "Epoch 82/100\n",
      "644/644 [==============================] - 1s 941us/step - loss: 0.5682 - accuracy: 0.7137 - val_loss: 0.5760 - val_accuracy: 0.7135\n",
      "Epoch 83/100\n",
      "644/644 [==============================] - 1s 941us/step - loss: 0.5680 - accuracy: 0.7149 - val_loss: 0.5755 - val_accuracy: 0.7141\n",
      "Epoch 84/100\n",
      "644/644 [==============================] - 1s 957us/step - loss: 0.5683 - accuracy: 0.7132 - val_loss: 0.5764 - val_accuracy: 0.7143\n",
      "Epoch 85/100\n",
      "644/644 [==============================] - 1s 1ms/step - loss: 0.5682 - accuracy: 0.7144 - val_loss: 0.5749 - val_accuracy: 0.7145\n",
      "Epoch 86/100\n",
      "644/644 [==============================] - 1s 1ms/step - loss: 0.5681 - accuracy: 0.7145 - val_loss: 0.5770 - val_accuracy: 0.7143\n",
      "Epoch 87/100\n",
      "644/644 [==============================] - 1s 926us/step - loss: 0.5678 - accuracy: 0.7134 - val_loss: 0.5772 - val_accuracy: 0.7149\n",
      "Epoch 88/100\n",
      "644/644 [==============================] - 1s 928us/step - loss: 0.5683 - accuracy: 0.7136 - val_loss: 0.5779 - val_accuracy: 0.7121\n",
      "Epoch 89/100\n",
      "644/644 [==============================] - 1s 952us/step - loss: 0.5679 - accuracy: 0.7142 - val_loss: 0.5760 - val_accuracy: 0.7139\n",
      "Epoch 90/100\n",
      "644/644 [==============================] - 1s 936us/step - loss: 0.5679 - accuracy: 0.7142 - val_loss: 0.5795 - val_accuracy: 0.7131\n",
      "Epoch 91/100\n",
      "644/644 [==============================] - 1s 958us/step - loss: 0.5677 - accuracy: 0.7140 - val_loss: 0.5781 - val_accuracy: 0.7147\n",
      "Epoch 92/100\n",
      "644/644 [==============================] - 1s 934us/step - loss: 0.5678 - accuracy: 0.7145 - val_loss: 0.5785 - val_accuracy: 0.7153\n",
      "Epoch 93/100\n",
      "644/644 [==============================] - 1s 984us/step - loss: 0.5673 - accuracy: 0.7150 - val_loss: 0.5776 - val_accuracy: 0.7147\n",
      "Epoch 94/100\n",
      "644/644 [==============================] - 1s 935us/step - loss: 0.5682 - accuracy: 0.7135 - val_loss: 0.5747 - val_accuracy: 0.7153\n",
      "Epoch 95/100\n",
      "644/644 [==============================] - 1s 936us/step - loss: 0.5677 - accuracy: 0.7132 - val_loss: 0.5780 - val_accuracy: 0.7147\n",
      "Epoch 96/100\n",
      "644/644 [==============================] - 1s 923us/step - loss: 0.5672 - accuracy: 0.7136 - val_loss: 0.5776 - val_accuracy: 0.7135\n",
      "Epoch 97/100\n",
      "644/644 [==============================] - 1s 946us/step - loss: 0.5680 - accuracy: 0.7137 - val_loss: 0.5744 - val_accuracy: 0.7143\n",
      "Epoch 98/100\n",
      "644/644 [==============================] - 1s 1ms/step - loss: 0.5674 - accuracy: 0.7146 - val_loss: 0.5773 - val_accuracy: 0.7114\n",
      "Epoch 99/100\n",
      "644/644 [==============================] - 1s 952us/step - loss: 0.5674 - accuracy: 0.7145 - val_loss: 0.5797 - val_accuracy: 0.7151\n",
      "Epoch 100/100\n",
      "644/644 [==============================] - 1s 990us/step - loss: 0.5677 - accuracy: 0.7137 - val_loss: 0.5795 - val_accuracy: 0.7116\n"
     ]
    },
    {
     "data": {
      "text/plain": [
       "<keras.src.callbacks.History at 0x13ac8713fd0>"
      ]
     },
     "execution_count": 34,
     "metadata": {},
     "output_type": "execute_result"
    }
   ],
   "source": [
    "# Create the model\n",
    "nn = create_model(input_dim=X_train_scaled.shape[1])\n",
    "\n",
    "# Train the model with increased epochs\n",
    "nn.fit(X_train_scaled, y_train, epochs=100, batch_size=32, validation_split=0.2)"
   ]
  },
  {
   "cell_type": "code",
   "execution_count": 37,
   "metadata": {},
   "outputs": [
    {
     "name": "stdout",
     "output_type": "stream",
     "text": [
      "268/268 - 0s - loss: 0.5865 - accuracy: 0.7072 - 206ms/epoch - 768us/step\n",
      "Loss: 0.5864975452423096, Accuracy: 0.7071720361709595\n"
     ]
    }
   ],
   "source": [
    "# Evaluate the model using the test data\n",
    "model_loss, model_accuracy = nn.evaluate(X_test_scaled, y_test, verbose=2)\n",
    "print(f\"Loss: {model_loss}, Accuracy: {model_accuracy}\")"
   ]
  },
  {
   "cell_type": "code",
   "execution_count": 39,
   "metadata": {},
   "outputs": [],
   "source": [
    "# Custom function to calculate permutation importance\n",
    "def custom_permutation_importance(model, X_test, y_test, feature_names, n_repeats=10):\n",
    "    baseline_accuracy = model.evaluate(X_test, y_test, verbose=0)[1]\n",
    "    importances = np.zeros(X_test.shape[1])\n",
    "    for i in range(X_test.shape[1]):\n",
    "        scores = np.zeros(n_repeats)\n",
    "        for n in range(n_repeats):\n",
    "            X_test_permuted = X_test.copy()\n",
    "            np.random.shuffle(X_test_permuted[:, i])\n",
    "            permuted_accuracy = model.evaluate(X_test_permuted, y_test, verbose=0)[1]\n",
    "            scores[n] = baseline_accuracy - permuted_accuracy\n",
    "        importances[i] = np.mean(scores)\n",
    "    return importances\n"
   ]
  },
  {
   "cell_type": "code",
   "execution_count": 40,
   "metadata": {},
   "outputs": [
    {
     "name": "stdout",
     "output_type": "stream",
     "text": [
      "AFFILIATION_CompanySponsored: 0.0813\n",
      "AFFILIATION_Independent: 0.0324\n",
      "USE_CASE_ProductDev: 0.0170\n",
      "ORGANIZATION_Association: 0.0090\n",
      "CLASSIFICATION_Other: 0.0090\n",
      "INCOME_AMT_0: 0.0080\n",
      "CLASSIFICATION_C1000: 0.0061\n",
      "ORGANIZATION_Trust: 0.0061\n",
      "CLASSIFICATION_C1200: 0.0053\n",
      "INCOME_AMT_1M-5M: 0.0040\n",
      "CLASSIFICATION_C2000: 0.0040\n",
      "USE_CASE_Preservation: 0.0040\n",
      "INCOME_AMT_10M-50M: 0.0037\n",
      "CLASSIFICATION_C3000: 0.0032\n",
      "INCOME_AMT_1-9999: 0.0023\n",
      "CLASSIFICATION_C2100: 0.0022\n",
      "INCOME_AMT_5M-10M: 0.0021\n",
      "INCOME_AMT_50M+: 0.0016\n",
      "INCOME_AMT_100000-499999: 0.0015\n",
      "INCOME_AMT_25000-99999: 0.0014\n",
      "USE_CASE_CommunityServ: 0.0003\n",
      "AFFILIATION_National: 0.0003\n",
      "AFFILIATION_Family/Parent: 0.0003\n",
      "USE_CASE_Other: 0.0001\n",
      "INCOME_AMT_10000-24999: 0.0001\n",
      "ASK_AMT: 0.0001\n",
      "USE_CASE_Heathcare: 0.0001\n",
      "ORGANIZATION_Corporation: 0.0000\n",
      "AFFILIATION_Regional: 0.0000\n",
      "ORGANIZATION_Co-operative: -0.0003\n"
     ]
    }
   ],
   "source": [
    "import csv\n",
    "\n",
    "# Calculate permutation importance\n",
    "importances = custom_permutation_importance(nn, X_test_scaled, y_test, feature_names)\n",
    "\n",
    "# Save permutation importance to a CSV file\n",
    "with open('permutation_importance4.csv', 'w', newline='') as csvfile:\n",
    "    writer = csv.writer(csvfile)\n",
    "    writer.writerow(['Feature', 'Importance'])\n",
    "    for i in np.argsort(importances)[::-1]:\n",
    "        writer.writerow([feature_names[i], f\"{importances[i]:.4f}\"])\n",
    "\n",
    "# Display permutation importance\n",
    "for i in np.argsort(importances)[::-1]:\n",
    "    print(f\"{feature_names[i]}: {importances[i]:.4f}\")"
   ]
  },
  {
   "cell_type": "code",
   "execution_count": null,
   "metadata": {},
   "outputs": [
    {
     "name": "stderr",
     "output_type": "stream",
     "text": [
      "c:\\Users\\jimco\\anaconda3\\envs\\ml_env\\lib\\site-packages\\keras\\src\\engine\\training.py:3103: UserWarning: You are saving your model as an HDF5 file via `model.save()`. This file format is considered legacy. We recommend using instead the native Keras format, e.g. `model.save('my_model.keras')`.\n",
      "  saving_api.save_model(\n"
     ]
    }
   ],
   "source": [
    "# Save the optimized model to an HDF5 file\n",
    "nn.save('AlphabetSoupCharity_Optimized3rdAttempt.h5')"
   ]
  }
 ],
 "metadata": {
  "kernelspec": {
   "display_name": "ml_env",
   "language": "python",
   "name": "python3"
  },
  "language_info": {
   "codemirror_mode": {
    "name": "ipython",
    "version": 3
   },
   "file_extension": ".py",
   "mimetype": "text/x-python",
   "name": "python",
   "nbconvert_exporter": "python",
   "pygments_lexer": "ipython3",
   "version": "3.10.16"
  }
 },
 "nbformat": 4,
 "nbformat_minor": 4
}
